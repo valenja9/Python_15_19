{
  "nbformat": 4,
  "nbformat_minor": 0,
  "metadata": {
    "colab": {
      "name": "Python_15_19_IX.ipynb",
      "provenance": [],
      "authorship_tag": "ABX9TyM/M2Bss9P1giLvJTXlckGu",
      "include_colab_link": true
    },
    "kernelspec": {
      "name": "python3",
      "display_name": "Python 3"
    },
    "language_info": {
      "name": "python"
    }
  },
  "cells": [
    {
      "cell_type": "markdown",
      "metadata": {
        "id": "view-in-github",
        "colab_type": "text"
      },
      "source": [
        "<a href=\"https://colab.research.google.com/github/valenja9/Python_15_19/blob/main/Python_15_19_IX.ipynb\" target=\"_parent\"><img src=\"https://colab.research.google.com/assets/colab-badge.svg\" alt=\"Open In Colab\"/></a>"
      ]
    },
    {
      "cell_type": "code",
      "metadata": {
        "colab": {
          "base_uri": "https://localhost:8080/"
        },
        "id": "UK0NwdIB4oM9",
        "outputId": "8f22832d-1112-4081-c1ff-ff3673cf2dcf"
      },
      "source": [
        "#funkci ktera mi secte dve cisla a vrati vysledek.\n",
        "def secti_dve_cisla(x,y):\n",
        "  vysledek = x+y\n",
        "  return vysledek\n",
        "secti_dve_cisla(6,8)"
      ],
      "execution_count": 8,
      "outputs": [
        {
          "output_type": "execute_result",
          "data": {
            "text/plain": [
              "14"
            ]
          },
          "metadata": {
            "tags": []
          },
          "execution_count": 8
        }
      ]
    },
    {
      "cell_type": "code",
      "metadata": {
        "id": "hbLQIi_Z5Dwk"
      },
      "source": [
        "#Funkce ktera spoji dva texty dohromady a da mezi ne carku.\n",
        "def carka(str1,str2):\n",
        "    vysledek = str1 +\", \" + str2\n",
        "    return vysledek\n",
        "vysledek = carka(\"Ahoj\",\"světe\")\n",
        "print(vysledek)\n",
        "\n",
        "def secti_dve_vety():\n",
        "  a = input(\"napis prvni vetu :\")\n",
        "  b = input(\"napis druhou vetu :\")\n",
        "  vysledek = a + b  #Něco tu chybí\n",
        "  return vysledek"
      ],
      "execution_count": null,
      "outputs": []
    },
    {
      "cell_type": "code",
      "metadata": {
        "colab": {
          "base_uri": "https://localhost:8080/"
        },
        "id": "s81dek8n5kEm",
        "outputId": "f7177cb3-a936-4a1a-fb36-3df26e561050"
      },
      "source": [
        "#Obsah kruhu\n",
        "import math\n",
        "def SKruhu(r):\n",
        "    S = math.pi * r**2\n",
        "    return S\n",
        "polomer = int(input(\"Napiš poloměr v cm: \"))\n",
        "S = SKruhu(polomer)\n",
        "print(S)"
      ],
      "execution_count": 1,
      "outputs": [
        {
          "output_type": "stream",
          "text": [
            "Napiš poloměr v cm: 10\n",
            "314.1592653589793\n"
          ],
          "name": "stdout"
        }
      ]
    },
    {
      "cell_type": "code",
      "metadata": {
        "colab": {
          "base_uri": "https://localhost:8080/"
        },
        "id": "KCuheV0b6yzK",
        "outputId": "16330172-8953-49c9-d10d-91acc27be994"
      },
      "source": [
        "#Funkce mi rozdeli vetu na jednotlivá slova a spočítá jejich výskyt(Kolikrát se objevují jednotlivá slova) vrací dict\n",
        "def rozdelVety(veta):\n",
        "    slovoCounter = 0\n",
        "    slova  =[]\n",
        "    for slovo in veta.split(\" \"):\n",
        "        slova.append(slovo)\n",
        "        slovoCounter += 1\n",
        "    for slovo in slova:\n",
        "        count = slova.count(slovo)\n",
        "        print(slovo + \" se zde vyskytuje \" + str(count) + \"x\")\n",
        "rozdelVety(\" Rozdel na jednotliva slova slova slova\")"
      ],
      "execution_count": 5,
      "outputs": [
        {
          "output_type": "stream",
          "text": [
            " se zde vyskytuje 1x\n",
            "Rozdel se zde vyskytuje 1x\n",
            "na se zde vyskytuje 1x\n",
            "jednotliva se zde vyskytuje 1x\n",
            "slova se zde vyskytuje 3x\n",
            "slova se zde vyskytuje 3x\n",
            "slova se zde vyskytuje 3x\n"
          ],
          "name": "stdout"
        }
      ]
    },
    {
      "cell_type": "code",
      "metadata": {
        "colab": {
          "base_uri": "https://localhost:8080/"
        },
        "id": "87OKyY3PA67E",
        "outputId": "815914ec-dfd9-458d-ac0b-39452f6938e2"
      },
      "source": [
        "def counter_fuc(veta):\n",
        "  pocet_vyskytu = {}\n",
        "  for slovo in veta:\n",
        "    pocet_vyskytu[slovo] = pocet_vyskytu.get(slovo, 0) + 1 \n",
        "  return pocet_vyskytu\n",
        "\n",
        "def rozdelVety(veta):\n",
        "    if isinstance(veta, list):\n",
        "      counter = counter_fuc(veta)\n",
        "      return counter\n",
        "\n",
        "    elif isinstance(veta, str):\n",
        "      counter = counter_fuc(veta.split(\" \"))\n",
        "      return counter\n",
        "rozdelVety(\"Rozdel na jednotliva slova slova slova\")"
      ],
      "execution_count": 26,
      "outputs": [
        {
          "output_type": "execute_result",
          "data": {
            "text/plain": [
              "{'Rozdel': 1, 'jednotliva': 1, 'na': 1, 'slova': 3}"
            ]
          },
          "metadata": {
            "tags": []
          },
          "execution_count": 26
        }
      ]
    },
    {
      "cell_type": "code",
      "metadata": {
        "colab": {
          "base_uri": "https://localhost:8080/"
        },
        "id": "BsDe7lSuBlDn",
        "outputId": "13dfabbd-2b53-4f22-e335-5657a5c86fdc"
      },
      "source": [
        "def rozdelVety(veta):\n",
        "  counter = {}\n",
        "  slova = veta.split(\" \")\n",
        "  for slovo in set(slova):\n",
        "    counter[slovo] = slova.count(slovo)\n",
        "  return counter\n",
        "rozdelVety(\"Rozdel na jednotliva slova slova slova\") "
      ],
      "execution_count": 12,
      "outputs": [
        {
          "output_type": "execute_result",
          "data": {
            "text/plain": [
              "{'Rozdel': 1, 'jednotliva': 1, 'na': 1, 'slova': 3}"
            ]
          },
          "metadata": {
            "tags": []
          },
          "execution_count": 12
        }
      ]
    },
    {
      "cell_type": "code",
      "metadata": {
        "id": "NTOsF2b266Av"
      },
      "source": [
        "#Funkce mi simuluje kostku.\n",
        "#chci hazet 60x\n",
        "#výslednky hodů se ukládají do listu\n",
        "import random as rd\n",
        "def kostka():\n",
        "    listHodu = []\n",
        "    for i in range(60):\n",
        "        x = rd.randint(1,6)\n",
        "        listHodu.append(x)\n",
        "        \n",
        "    return listHodu"
      ],
      "execution_count": 17,
      "outputs": []
    },
    {
      "cell_type": "code",
      "metadata": {
        "colab": {
          "base_uri": "https://localhost:8080/"
        },
        "id": "ESnX1CU4C8iy",
        "outputId": "3259783a-134f-4b6f-b1ad-67aca5940160"
      },
      "source": [
        "\n",
        "kostka()"
      ],
      "execution_count": 15,
      "outputs": [
        {
          "output_type": "stream",
          "text": [
            "[6, 6, 4, 6, 2, 4, 2, 1, 6, 5, 1, 2, 2, 6, 6, 1, 4, 3, 4, 5, 3, 6, 2, 5, 2, 6, 1, 4, 6, 1, 3, 1, 2, 3, 3, 4, 2, 2, 1, 1, 3, 5, 5, 6, 1, 4, 3, 5, 3, 2, 6, 6, 2, 4, 5, 5, 4, 2, 3, 6]\n"
          ],
          "name": "stdout"
        }
      ]
    },
    {
      "cell_type": "code",
      "metadata": {
        "id": "Q35ZxCZRDGFJ"
      },
      "source": [
        "satistika_hodu = rozdelVety(kostka())"
      ],
      "execution_count": 30,
      "outputs": []
    },
    {
      "cell_type": "code",
      "metadata": {
        "colab": {
          "base_uri": "https://localhost:8080/"
        },
        "id": "NXwlRSIYF5mX",
        "outputId": "bc82bfbe-e60b-4df5-d01e-296705f77b08"
      },
      "source": [
        "for k,v in rozdelVety(kostka()).items():\n",
        "  print(k, \"*\" * v)"
      ],
      "execution_count": 29,
      "outputs": [
        {
          "output_type": "stream",
          "text": [
            "3 *********\n",
            "5 *******\n",
            "6 *************\n",
            "1 ********\n",
            "4 **********\n",
            "2 *************\n"
          ],
          "name": "stdout"
        }
      ]
    },
    {
      "cell_type": "code",
      "metadata": {
        "colab": {
          "base_uri": "https://localhost:8080/"
        },
        "id": "l3YN-oBeGUwg",
        "outputId": "cd5163eb-dca3-4377-ba97-cdb603188999"
      },
      "source": [
        "oddelovac = \"=\" * 80\n",
        "for i in range(10):\n",
        "  satistika_hodu = rozdelVety(kostka())\n",
        "  print(oddelovac)\n",
        "  for klic in range(1, 7):\n",
        "    print(klic, \"*\" * satistika_hodu[klic])\n",
        "  print(oddelovac)"
      ],
      "execution_count": 34,
      "outputs": [
        {
          "output_type": "stream",
          "text": [
            "================================================================================\n",
            "1 ***************\n",
            "2 ********\n",
            "3 **********\n",
            "4 *********\n",
            "5 ******\n",
            "6 ************\n",
            "================================================================================\n",
            "================================================================================\n",
            "1 *********\n",
            "2 *********\n",
            "3 ************\n",
            "4 ********\n",
            "5 ******\n",
            "6 ****************\n",
            "================================================================================\n",
            "================================================================================\n",
            "1 ********\n",
            "2 *******\n",
            "3 **********\n",
            "4 ***************\n",
            "5 ***********\n",
            "6 *********\n",
            "================================================================================\n",
            "================================================================================\n",
            "1 ***************\n",
            "2 ********\n",
            "3 ************\n",
            "4 *****\n",
            "5 ************\n",
            "6 ********\n",
            "================================================================================\n",
            "================================================================================\n",
            "1 **********\n",
            "2 **********\n",
            "3 ****************\n",
            "4 ***************\n",
            "5 *****\n",
            "6 ****\n",
            "================================================================================\n",
            "================================================================================\n",
            "1 ********\n",
            "2 *********\n",
            "3 ************\n",
            "4 **************\n",
            "5 *********\n",
            "6 ********\n",
            "================================================================================\n",
            "================================================================================\n",
            "1 *************\n",
            "2 ***********\n",
            "3 ************\n",
            "4 *********\n",
            "5 ******\n",
            "6 *********\n",
            "================================================================================\n",
            "================================================================================\n",
            "1 *********\n",
            "2 **********\n",
            "3 ***********\n",
            "4 ************\n",
            "5 ************\n",
            "6 ******\n",
            "================================================================================\n",
            "================================================================================\n",
            "1 **************\n",
            "2 ***************\n",
            "3 ******\n",
            "4 ****\n",
            "5 ******\n",
            "6 ***************\n",
            "================================================================================\n",
            "================================================================================\n",
            "1 *************\n",
            "2 **********\n",
            "3 **********\n",
            "4 **********\n",
            "5 *********\n",
            "6 ********\n",
            "================================================================================\n"
          ],
          "name": "stdout"
        }
      ]
    },
    {
      "cell_type": "code",
      "metadata": {
        "colab": {
          "base_uri": "https://localhost:8080/"
        },
        "id": "oBwT-0DsCcgk",
        "outputId": "1b99ed6c-bd70-4c17-e925-406c62f117b8"
      },
      "source": [
        "dir(random)"
      ],
      "execution_count": 13,
      "outputs": [
        {
          "output_type": "execute_result",
          "data": {
            "text/plain": [
              "['BPF',\n",
              " 'LOG4',\n",
              " 'NV_MAGICCONST',\n",
              " 'RECIP_BPF',\n",
              " 'Random',\n",
              " 'SG_MAGICCONST',\n",
              " 'SystemRandom',\n",
              " 'TWOPI',\n",
              " '_BuiltinMethodType',\n",
              " '_MethodType',\n",
              " '_Sequence',\n",
              " '_Set',\n",
              " '__all__',\n",
              " '__builtins__',\n",
              " '__cached__',\n",
              " '__doc__',\n",
              " '__file__',\n",
              " '__loader__',\n",
              " '__name__',\n",
              " '__package__',\n",
              " '__spec__',\n",
              " '_acos',\n",
              " '_bisect',\n",
              " '_ceil',\n",
              " '_cos',\n",
              " '_e',\n",
              " '_exp',\n",
              " '_inst',\n",
              " '_itertools',\n",
              " '_log',\n",
              " '_os',\n",
              " '_pi',\n",
              " '_random',\n",
              " '_sha512',\n",
              " '_sin',\n",
              " '_sqrt',\n",
              " '_test',\n",
              " '_test_generator',\n",
              " '_urandom',\n",
              " '_warn',\n",
              " 'betavariate',\n",
              " 'choice',\n",
              " 'choices',\n",
              " 'expovariate',\n",
              " 'gammavariate',\n",
              " 'gauss',\n",
              " 'getrandbits',\n",
              " 'getstate',\n",
              " 'lognormvariate',\n",
              " 'normalvariate',\n",
              " 'paretovariate',\n",
              " 'randint',\n",
              " 'random',\n",
              " 'randrange',\n",
              " 'sample',\n",
              " 'seed',\n",
              " 'setstate',\n",
              " 'shuffle',\n",
              " 'triangular',\n",
              " 'uniform',\n",
              " 'vonmisesvariate',\n",
              " 'weibullvariate']"
            ]
          },
          "metadata": {
            "tags": []
          },
          "execution_count": 13
        }
      ]
    },
    {
      "cell_type": "code",
      "metadata": {
        "colab": {
          "base_uri": "https://localhost:8080/"
        },
        "id": "nxja7pn27TnF",
        "outputId": "84b6221b-e5d5-4d99-9d9d-21ae408bba6e"
      },
      "source": [
        "#Funkce mi simuluje kostku.\n",
        "#chci hazet dokud si to nerozmyslím\n",
        "#výslednky hodů se ukládají do listu\n",
        "\n",
        "import random\n",
        "def hod():\n",
        "    vysledky = []\n",
        "    while True:\n",
        "        pokr = input(\"chceš pokračovat(ano/ne)\")\n",
        "        if pokr == \"ano\":\n",
        "            vysledky.append(random.randrange(1, 7))\n",
        "        else:\n",
        "            break\n",
        "    return vysledky\n",
        "print(hod())\n"
      ],
      "execution_count": 6,
      "outputs": [
        {
          "output_type": "stream",
          "text": [
            "chceš pokračovat(ano/ne)ano\n",
            "chceš pokračovat(ano/ne)ano\n",
            "chceš pokračovat(ano/ne)ano\n",
            "chceš pokračovat(ano/ne)ne\n",
            "[1, 6, 1]\n"
          ],
          "name": "stdout"
        }
      ]
    },
    {
      "cell_type": "code",
      "metadata": {
        "colab": {
          "base_uri": "https://localhost:8080/"
        },
        "id": "J3Eqt5ahJLb0",
        "outputId": "64187c38-54d4-4ab6-fee0-175c6b158d90"
      },
      "source": [
        "dir()"
      ],
      "execution_count": 39,
      "outputs": [
        {
          "output_type": "execute_result",
          "data": {
            "text/plain": [
              "['In',\n",
              " 'Out',\n",
              " 'S',\n",
              " 'SKruhu',\n",
              " '_',\n",
              " '_10',\n",
              " '_11',\n",
              " '_12',\n",
              " '_13',\n",
              " '_23',\n",
              " '_24',\n",
              " '_25',\n",
              " '_26',\n",
              " '_27',\n",
              " '_38',\n",
              " '_8',\n",
              " '__',\n",
              " '___',\n",
              " '__builtin__',\n",
              " '__builtins__',\n",
              " '__doc__',\n",
              " '__loader__',\n",
              " '__name__',\n",
              " '__package__',\n",
              " '__spec__',\n",
              " '_dh',\n",
              " '_i',\n",
              " '_i1',\n",
              " '_i10',\n",
              " '_i11',\n",
              " '_i12',\n",
              " '_i13',\n",
              " '_i14',\n",
              " '_i15',\n",
              " '_i16',\n",
              " '_i17',\n",
              " '_i18',\n",
              " '_i19',\n",
              " '_i2',\n",
              " '_i20',\n",
              " '_i21',\n",
              " '_i22',\n",
              " '_i23',\n",
              " '_i24',\n",
              " '_i25',\n",
              " '_i26',\n",
              " '_i27',\n",
              " '_i28',\n",
              " '_i29',\n",
              " '_i3',\n",
              " '_i30',\n",
              " '_i31',\n",
              " '_i32',\n",
              " '_i33',\n",
              " '_i34',\n",
              " '_i35',\n",
              " '_i36',\n",
              " '_i37',\n",
              " '_i38',\n",
              " '_i39',\n",
              " '_i4',\n",
              " '_i5',\n",
              " '_i6',\n",
              " '_i7',\n",
              " '_i8',\n",
              " '_i9',\n",
              " '_ih',\n",
              " '_ii',\n",
              " '_iii',\n",
              " '_oh',\n",
              " '_sh',\n",
              " 'counter_fuc',\n",
              " 'exit',\n",
              " 'get_ipython',\n",
              " 'hod',\n",
              " 'i',\n",
              " 'k',\n",
              " 'klic',\n",
              " 'kostka',\n",
              " 'main',\n",
              " 'math',\n",
              " 'oddelovac',\n",
              " 'polomer',\n",
              " 'quit',\n",
              " 'random',\n",
              " 'rd',\n",
              " 'rozdelVety',\n",
              " 'satistika_hodu',\n",
              " 'secti_dve_cisla',\n",
              " 'v']"
            ]
          },
          "metadata": {
            "tags": []
          },
          "execution_count": 39
        }
      ]
    },
    {
      "cell_type": "code",
      "metadata": {
        "colab": {
          "base_uri": "https://localhost:8080/"
        },
        "id": "7wfqOmxHH-o3",
        "outputId": "897d5d60-9ded-4d0f-b956-e87824b3d467"
      },
      "source": [
        "import random as rd\n",
        "\n",
        "def kostka():\n",
        "    listHodu = []\n",
        "    for i in range(60):\n",
        "        x = rd.randint(1,6)\n",
        "        listHodu.append(x)    \n",
        "    return listHodu\n",
        "\n",
        "def counter_fuc(veta):\n",
        "  pocet_vyskytu = {}\n",
        "  for slovo in veta:\n",
        "    pocet_vyskytu[slovo] = pocet_vyskytu.get(slovo, 0) + 1 \n",
        "  return pocet_vyskytu\n",
        "\n",
        "def rozdelVety(veta):\n",
        "    if isinstance(veta, list):\n",
        "      counter = counter_fuc(veta)\n",
        "      return counter\n",
        "\n",
        "    elif isinstance(veta, str):\n",
        "      counter = counter_fuc(veta.split(\" \"))\n",
        "      return counter\n",
        "rozdelVety(\"Rozdel na jednotliva slova slova slova\")\n",
        "\n",
        "def main():\n",
        "  oddelovac = \"=\" * 80\n",
        "  for i in range(10):\n",
        "    hod = kostka()\n",
        "    satistika_hodu = rozdelVety(hod)\n",
        "    print(oddelovac)\n",
        "    for klic in range(1, 7):\n",
        "      print(klic, \"*\" * satistika_hodu[klic])\n",
        "    print(oddelovac)\n",
        "\n",
        "if __name__ ==  \"__main__\":\n",
        "    main()"
      ],
      "execution_count": 37,
      "outputs": [
        {
          "output_type": "stream",
          "text": [
            "================================================================================\n",
            "1 **********\n",
            "2 *******\n",
            "3 ********\n",
            "4 ***************\n",
            "5 ***********\n",
            "6 *********\n",
            "================================================================================\n",
            "================================================================================\n",
            "1 ************\n",
            "2 ************\n",
            "3 *****\n",
            "4 ***********\n",
            "5 *******\n",
            "6 *************\n",
            "================================================================================\n",
            "================================================================================\n",
            "1 ******\n",
            "2 *************\n",
            "3 *********\n",
            "4 *****************\n",
            "5 *******\n",
            "6 ********\n",
            "================================================================================\n",
            "================================================================================\n",
            "1 ****\n",
            "2 ************\n",
            "3 ********\n",
            "4 **************\n",
            "5 **********\n",
            "6 ************\n",
            "================================================================================\n",
            "================================================================================\n",
            "1 ***********\n",
            "2 **********\n",
            "3 ********\n",
            "4 ********\n",
            "5 **************\n",
            "6 *********\n",
            "================================================================================\n",
            "================================================================================\n",
            "1 **********\n",
            "2 ******\n",
            "3 ********\n",
            "4 ************\n",
            "5 *********\n",
            "6 ***************\n",
            "================================================================================\n",
            "================================================================================\n",
            "1 *************\n",
            "2 ***********\n",
            "3 *****\n",
            "4 ********\n",
            "5 ************\n",
            "6 ***********\n",
            "================================================================================\n",
            "================================================================================\n",
            "1 *****\n",
            "2 *******\n",
            "3 *****************\n",
            "4 *****\n",
            "5 *************\n",
            "6 *************\n",
            "================================================================================\n",
            "================================================================================\n",
            "1 ****\n",
            "2 ******\n",
            "3 **********\n",
            "4 ***********\n",
            "5 *****************\n",
            "6 ************\n",
            "================================================================================\n",
            "================================================================================\n",
            "1 *********\n",
            "2 ********\n",
            "3 **********\n",
            "4 *********\n",
            "5 **********\n",
            "6 **************\n",
            "================================================================================\n"
          ],
          "name": "stdout"
        }
      ]
    },
    {
      "cell_type": "code",
      "metadata": {
        "colab": {
          "base_uri": "https://localhost:8080/"
        },
        "id": "-5Oj0FM7IfiD",
        "outputId": "57dfaa06-c367-4b2d-df0b-f4c84eb319aa"
      },
      "source": [
        "main()"
      ],
      "execution_count": 36,
      "outputs": [
        {
          "output_type": "stream",
          "text": [
            "================================================================================\n",
            "1 *******\n",
            "2 *************\n",
            "3 *****\n",
            "4 **********\n",
            "5 *************\n",
            "6 ************\n",
            "================================================================================\n",
            "================================================================================\n",
            "1 *********\n",
            "2 **************\n",
            "3 ****\n",
            "4 ************\n",
            "5 **********\n",
            "6 ***********\n",
            "================================================================================\n",
            "================================================================================\n",
            "1 *************\n",
            "2 ************\n",
            "3 *********\n",
            "4 *********\n",
            "5 *********\n",
            "6 ********\n",
            "================================================================================\n",
            "================================================================================\n",
            "1 ***************\n",
            "2 *******\n",
            "3 ************\n",
            "4 *********\n",
            "5 ******\n",
            "6 ***********\n",
            "================================================================================\n",
            "================================================================================\n",
            "1 ************\n",
            "2 *********\n",
            "3 ******\n",
            "4 ********\n",
            "5 ************\n",
            "6 *************\n",
            "================================================================================\n",
            "================================================================================\n",
            "1 ****************\n",
            "2 **********\n",
            "3 *********\n",
            "4 *****\n",
            "5 *************\n",
            "6 *******\n",
            "================================================================================\n",
            "================================================================================\n",
            "1 ******\n",
            "2 ***********\n",
            "3 ***********\n",
            "4 ******\n",
            "5 **************\n",
            "6 ************\n",
            "================================================================================\n",
            "================================================================================\n",
            "1 ********\n",
            "2 *****************\n",
            "3 *********\n",
            "4 ******\n",
            "5 ***************\n",
            "6 *****\n",
            "================================================================================\n",
            "================================================================================\n",
            "1 *********\n",
            "2 *********\n",
            "3 **************\n",
            "4 ***************\n",
            "5 **********\n",
            "6 ***\n",
            "================================================================================\n",
            "================================================================================\n",
            "1 *********\n",
            "2 *************\n",
            "3 ********\n",
            "4 ******\n",
            "5 ************\n",
            "6 ************\n",
            "================================================================================\n"
          ],
          "name": "stdout"
        }
      ]
    }
  ]
}