{
  "nbformat": 4,
  "nbformat_minor": 0,
  "metadata": {
    "colab": {
      "name": "python_15_19_x.ipynb",
      "provenance": [],
      "authorship_tag": "ABX9TyMCtupvxZVEXfY73wHfkKbI",
      "include_colab_link": true
    },
    "kernelspec": {
      "name": "python3",
      "display_name": "Python 3"
    },
    "language_info": {
      "name": "python"
    }
  },
  "cells": [
    {
      "cell_type": "markdown",
      "metadata": {
        "id": "view-in-github",
        "colab_type": "text"
      },
      "source": [
        "<a href=\"https://colab.research.google.com/github/valenja9/Python_15_19/blob/main/python_15_19_x.ipynb\" target=\"_parent\"><img src=\"https://colab.research.google.com/assets/colab-badge.svg\" alt=\"Open In Colab\"/></a>"
      ]
    },
    {
      "cell_type": "code",
      "metadata": {
        "colab": {
          "base_uri": "https://localhost:8080/"
        },
        "id": "aQI-3mTt751u",
        "outputId": "ab5562e3-88cc-4992-9c4c-46e6fa9c540a"
      },
      "source": [
        "def vytvor_soubor(jmeno: str, text: str) -> None:\n",
        "  with open(f\"{jmeno}.txt\", mode=\"w\") as f:\n",
        "    for veta in text:\n",
        "      f.write(veta + \"\\n\")\n",
        "  print(f\"Vytvoril jsem soubor: {jmeno}\")\n",
        "\n",
        "\n",
        "vety = [\"prvni veta\", \"druha veta\", \"treti veta\"]\n",
        "vytvor_soubor(\"pokus\", vety)"
      ],
      "execution_count": 6,
      "outputs": [
        {
          "output_type": "stream",
          "text": [
            "Vytvoril jsem soubor: pokus\n"
          ],
          "name": "stdout"
        }
      ]
    },
    {
      "cell_type": "code",
      "metadata": {
        "colab": {
          "base_uri": "https://localhost:8080/"
        },
        "id": "qKR50_Zc_vwX",
        "outputId": "f6ffc9a0-94a1-4409-90ab-859b53b1ca2b"
      },
      "source": [
        "def vytvor_soubor(jmeno: str, text: str, mode) -> None:\n",
        "  with open(f\"{jmeno}.txt\", mode) as f:\n",
        "    for veta in text:\n",
        "      f.write(veta + \"\\n\")\n",
        "  print(f\"Vytvoril jsem soubor: {jmeno}\")\n",
        "\n",
        "vety = [\"prvni veta\", \"druha veta\", \"treti veta\"]\n",
        "vytvor_soubor(\"pokus\", vety, \"a\")"
      ],
      "execution_count": 4,
      "outputs": [
        {
          "output_type": "stream",
          "text": [
            "Vytvoril jsem soubor: pokus\n"
          ],
          "name": "stdout"
        }
      ]
    },
    {
      "cell_type": "code",
      "metadata": {
        "colab": {
          "base_uri": "https://localhost:8080/",
          "height": 35
        },
        "id": "OIzmR5vg__4r",
        "outputId": "a3a76588-259e-4a0e-b8d9-eebb8ab7b6ef"
      },
      "source": [
        "def precteni_soubor(jmeno: str) -> str:\n",
        "  with open(f\"{jmeno}.txt\", mode=\"r\") as f:\n",
        "    data = f.read()\n",
        "  return data\n",
        "precteni_soubor(\"pokus\")"
      ],
      "execution_count": 5,
      "outputs": [
        {
          "output_type": "execute_result",
          "data": {
            "application/vnd.google.colaboratory.intrinsic+json": {
              "type": "string"
            },
            "text/plain": [
              "'prvni veta                        \\n                druha veta       \\ntreti veta\\nprvni veta\\ndruha veta\\ntreti veta\\n'"
            ]
          },
          "metadata": {
            "tags": []
          },
          "execution_count": 5
        }
      ]
    },
    {
      "cell_type": "markdown",
      "metadata": {
        "id": "OG4Eie5-DBd9"
      },
      "source": [
        "# Json"
      ]
    },
    {
      "cell_type": "code",
      "metadata": {
        "id": "WlN3fmAVC71N"
      },
      "source": [
        "import json\n",
        "employee = {'Job': 'Programmer',\n",
        "            'Age': 38, \n",
        "            'Full Name': 'Galagher, Fred',\n",
        "            'City': 'London',\n",
        "            'Surname': 'Galagher',\n",
        "            'Gender': 'Male',\n",
        "            'Name': 'Fred'\n",
        "           }\n",
        "\n"
      ],
      "execution_count": 7,
      "outputs": []
    },
    {
      "cell_type": "code",
      "metadata": {
        "colab": {
          "base_uri": "https://localhost:8080/"
        },
        "id": "h_gnsAnkDh9b",
        "outputId": "dff34609-cbe0-4442-b11b-2d9ed04eff0a"
      },
      "source": [
        "dir(json)"
      ],
      "execution_count": 8,
      "outputs": [
        {
          "output_type": "execute_result",
          "data": {
            "text/plain": [
              "['JSONDecodeError',\n",
              " 'JSONDecoder',\n",
              " 'JSONEncoder',\n",
              " '__all__',\n",
              " '__author__',\n",
              " '__builtins__',\n",
              " '__cached__',\n",
              " '__doc__',\n",
              " '__file__',\n",
              " '__loader__',\n",
              " '__name__',\n",
              " '__package__',\n",
              " '__path__',\n",
              " '__spec__',\n",
              " '__version__',\n",
              " '_default_decoder',\n",
              " '_default_encoder',\n",
              " 'codecs',\n",
              " 'decoder',\n",
              " 'detect_encoding',\n",
              " 'dump',\n",
              " 'dumps',\n",
              " 'encoder',\n",
              " 'load',\n",
              " 'loads',\n",
              " 'scanner']"
            ]
          },
          "metadata": {
            "tags": []
          },
          "execution_count": 8
        }
      ]
    },
    {
      "cell_type": "code",
      "metadata": {
        "id": "AavI74xIDyG-"
      },
      "source": [
        "with open(\"testI.json\", mode=\"w\") as f:\n",
        "  data = json.dumps(employee, indent=2, sort_keys=True)\n",
        "  f.write(data)"
      ],
      "execution_count": 13,
      "outputs": []
    },
    {
      "cell_type": "code",
      "metadata": {
        "colab": {
          "base_uri": "https://localhost:8080/"
        },
        "id": "d3it6LFCEY_J",
        "outputId": "6b635042-cb54-47a7-e261-8f13a887ba42"
      },
      "source": [
        "with open(\"test.json\", mode=\"r\") as f:\n",
        "   data = f.read() \n",
        "   data = json.loads(data)\n",
        "   print(data, type(data))"
      ],
      "execution_count": 12,
      "outputs": [
        {
          "output_type": "stream",
          "text": [
            "{'Job': 'Programmer', 'Age': 38, 'Full Name': 'Galagher, Fred', 'City': 'London', 'Surname': 'Galagher', 'Gender': 'Male', 'Name': 'Fred'} <class 'dict'>\n"
          ],
          "name": "stdout"
        }
      ]
    },
    {
      "cell_type": "code",
      "metadata": {
        "id": "iwACAtZZE2D-"
      },
      "source": [
        "import json\n",
        "employee = {\n",
        "    \"Name\": \"Fred\",\n",
        "    \"Job\": \"Programmer\",\n",
        "    \"Full Name\": \"Galagher, Fred\",\n",
        "}\n",
        "\n",
        "with open(\"neco.json\", mode=\"w\") as f:\n",
        "  json.dump(employee, f, indent=4)"
      ],
      "execution_count": 14,
      "outputs": []
    },
    {
      "cell_type": "code",
      "metadata": {
        "colab": {
          "base_uri": "https://localhost:8080/"
        },
        "id": "h3DNVop1FpAI",
        "outputId": "3b7f4349-2b7a-4dd0-b92f-82e011e8dd92"
      },
      "source": [
        "with open(\"neco.json\", mode=\"r\") as f:\n",
        "  data = json.load(f)\n",
        "  print(data)"
      ],
      "execution_count": 15,
      "outputs": [
        {
          "output_type": "stream",
          "text": [
            "{'Name': 'Fred', 'Job': 'Programmer', 'Full Name': 'Galagher, Fred'}\n"
          ],
          "name": "stdout"
        }
      ]
    },
    {
      "cell_type": "code",
      "metadata": {
        "colab": {
          "base_uri": "https://localhost:8080/"
        },
        "id": "dId8TnhiHEcf",
        "outputId": "9793fee6-f1c2-4d36-ed03-5a4317e89dcb"
      },
      "source": [
        "import csv\n",
        "\n",
        "dir(csv)"
      ],
      "execution_count": 17,
      "outputs": [
        {
          "output_type": "execute_result",
          "data": {
            "text/plain": [
              "['Dialect',\n",
              " 'DictReader',\n",
              " 'DictWriter',\n",
              " 'Error',\n",
              " 'OrderedDict',\n",
              " 'QUOTE_ALL',\n",
              " 'QUOTE_MINIMAL',\n",
              " 'QUOTE_NONE',\n",
              " 'QUOTE_NONNUMERIC',\n",
              " 'Sniffer',\n",
              " 'StringIO',\n",
              " '_Dialect',\n",
              " '__all__',\n",
              " '__builtins__',\n",
              " '__cached__',\n",
              " '__doc__',\n",
              " '__file__',\n",
              " '__loader__',\n",
              " '__name__',\n",
              " '__package__',\n",
              " '__spec__',\n",
              " '__version__',\n",
              " 'excel',\n",
              " 'excel_tab',\n",
              " 'field_size_limit',\n",
              " 'get_dialect',\n",
              " 'list_dialects',\n",
              " 're',\n",
              " 'reader',\n",
              " 'register_dialect',\n",
              " 'unix_dialect',\n",
              " 'unregister_dialect',\n",
              " 'writer']"
            ]
          },
          "metadata": {
            "tags": []
          },
          "execution_count": 17
        }
      ]
    },
    {
      "cell_type": "code",
      "metadata": {
        "colab": {
          "base_uri": "https://localhost:8080/"
        },
        "id": "Vi01ISCgHouv",
        "outputId": "acf049ef-70f1-4d99-d3ad-942ed4541968"
      },
      "source": [
        "%%writefile example.csv\n",
        "Surname,Name,Full Name,Age,City,Job,Gender\n",
        "Smith,John,\"Smith, John\",32,London,Programmer,\n",
        "Doe,Joe,\"Doe, Joe\",34,Liverpool,,Male"
      ],
      "execution_count": 18,
      "outputs": [
        {
          "output_type": "stream",
          "text": [
            "Writing example.csv\n"
          ],
          "name": "stdout"
        }
      ]
    },
    {
      "cell_type": "code",
      "metadata": {
        "id": "cPE-nyZfIh-f"
      },
      "source": [
        "import collections"
      ],
      "execution_count": 23,
      "outputs": []
    },
    {
      "cell_type": "code",
      "metadata": {
        "colab": {
          "base_uri": "https://localhost:8080/"
        },
        "id": "7IsQRk32H18U",
        "outputId": "6da5bb29-b37d-41e2-c5bb-5edaa7d4ffaf"
      },
      "source": [
        "def list_listu(jmeno) -> list:\n",
        "  navrat = []\n",
        "  with open(f\"{jmeno}.csv\", \"r\") as f:\n",
        "    data = csv.reader(f)\n",
        "    for radek in data:\n",
        "      navrat.append(radek)\n",
        "  return navrat\n",
        "list_listu(\"example\")"
      ],
      "execution_count": 26,
      "outputs": [
        {
          "output_type": "execute_result",
          "data": {
            "text/plain": [
              "[['Surname', 'Name', 'Full Name', 'Age', 'City', 'Job', 'Gender'],\n",
              " ['Smith', 'John', 'Smith, John', '32', 'London', 'Programmer', ''],\n",
              " ['Doe', 'Joe', 'Doe, Joe', '34', 'Liverpool', '', 'Male']]"
            ]
          },
          "metadata": {
            "tags": []
          },
          "execution_count": 26
        }
      ]
    },
    {
      "cell_type": "code",
      "metadata": {
        "id": "G0YKmzu0JgLS"
      },
      "source": [
        "hlavicka = ['Surname', 'Name', 'Full Name', 'Age', 'City', 'Job', 'Gender']\n",
        "obsah = [['Smith', 'John', 'Smith, John', '32', 'London', 'Programmer', ''],\n",
        "        ['Doe', 'Joe', 'Doe, Joe', '34', 'Liverpool', '', 'Male'],\n",
        "        ['Murphy', 'Ann', 'Murphy, Ann', '29', 'London', 'Admin', 'Female'],\n",
        "        ['Cook', 'Floyd', 'Cook, Floyd', '28', '', 'Tester', 'Male'],\n",
        "        ['Glenn', 'Taylor', 'Glenn, Taylor', '35', 'Birmingham', 'Manager', 'Female'],\n",
        "        ['Mills', 'Amanda', 'Mills, Amanda', '41', 'Leicester', 'Quality Assurance', 'Female']]"
      ],
      "execution_count": null,
      "outputs": []
    },
    {
      "cell_type": "code",
      "metadata": {
        "id": "PE1Ppb5JJPJF"
      },
      "source": [
        "with open(\"exampleI.csv\", mode=\"w\", newline=\"\") as f:\n",
        "  f_writer = csv.writer(f)\n",
        "  f_writer.writerow(hlavicka)\n",
        "  f_writer.writerows(obsah)"
      ],
      "execution_count": null,
      "outputs": []
    },
    {
      "cell_type": "code",
      "metadata": {
        "id": "lMCnmvfsJvW4"
      },
      "source": [
        "dict1 = {'Job': 'Programmer', 'Age': 38, 'Full Name': 'Galagher, Fred', 'City': 'London', 'Surname': 'Galagher', 'Gender': 'Male', 'Name': 'Fred'}\n",
        "header = ['Surname', 'Name', 'Full Name', 'Age', 'City', 'Job', 'Gender']\n",
        "with open(\"novy_file.csv\", mode=\"w\", newline=\"\", encoding=\"utf-8\") as f:\n",
        "  writer = csv.DictWriter(f, header)\n",
        "  writer.writeheader()\n",
        "  writer.writerow(dict1)"
      ],
      "execution_count": 27,
      "outputs": []
    },
    {
      "cell_type": "code",
      "metadata": {
        "colab": {
          "base_uri": "https://localhost:8080/"
        },
        "id": "PsGBIkjoKSMo",
        "outputId": "53cea3e7-58dd-4914-8a44-d86f0183f9bf"
      },
      "source": [
        "%%writefile pocasi.json\n",
        "[\n",
        "    {\n",
        "        \"address_components\":\n",
        "            {\n",
        "                \"long_name\": \"Praha - venkov\",\n",
        "                \"types\": [\n",
        "                    \"locality\",\n",
        "                    \"political\"\n",
        "                ],\n",
        "                \"short_name\": \"Brno\"\n",
        "            },\n",
        "        \"formatted_address\": \"Brno, Czechia\",\n",
        "        \"place_id\": \"ChIJEVE_wDqUEkcRsLEUZg-vAAQ\",\n",
        "        \"weather\": {\n",
        "            \"wind\": {\n",
        "                \"direction\": \"north\",\n",
        "                \"speed\": \"20\"\n",
        "            },\n",
        "            \"rain\": {\n",
        "                \"raining\": true,\n",
        "                \"intensity\": \"light\",\n",
        "                \"intensity-value\":\"2\"\n",
        "            },\n",
        "            \"clouds\": {\n",
        "                \"type\": \"cumulus\"\n",
        "            },\n",
        "            \"temperature\": {\n",
        "                \"min\": \"15\",\n",
        "                \"max\": \"18\",\n",
        "                \"current\": \"16.5\"\n",
        "            }\n",
        "        }\n",
        "    }\n",
        "]\n"
      ],
      "execution_count": 28,
      "outputs": [
        {
          "output_type": "stream",
          "text": [
            "Writing pocasi.json\n"
          ],
          "name": "stdout"
        }
      ]
    },
    {
      "cell_type": "code",
      "metadata": {
        "id": "iROK8vULLDMp"
      },
      "source": [
        "with open(\"pocasi.json\", mode=\"r\") as f:\n",
        "  data = json.load(f)"
      ],
      "execution_count": 29,
      "outputs": []
    },
    {
      "cell_type": "code",
      "metadata": {
        "colab": {
          "base_uri": "https://localhost:8080/"
        },
        "id": "mzClBiSROsj1",
        "outputId": "2f3872cf-610d-491a-8795-d66d8b702358"
      },
      "source": [
        "data[0]"
      ],
      "execution_count": 39,
      "outputs": [
        {
          "output_type": "execute_result",
          "data": {
            "text/plain": [
              "{'address_components': {'long_name': 'Praha - venkov',\n",
              "  'short_name': 'Brno',\n",
              "  'types': ['locality', 'political']},\n",
              " 'formatted_address': 'Brno, Czechia',\n",
              " 'place_id': 'ChIJEVE_wDqUEkcRsLEUZg-vAAQ',\n",
              " 'weather': {'clouds': {'type': 'cumulus'},\n",
              "  'rain': {'intensity': 'light', 'intensity-value': '2', 'raining': True},\n",
              "  'temperature': {'current': '16.5', 'max': '18', 'min': '15'},\n",
              "  'wind': {'direction': 'north', 'speed': '20'}}}"
            ]
          },
          "metadata": {
            "tags": []
          },
          "execution_count": 39
        }
      ]
    },
    {
      "cell_type": "code",
      "metadata": {
        "colab": {
          "base_uri": "https://localhost:8080/"
        },
        "id": "9ImV3Z6gM_Wj",
        "outputId": "d15e63b0-648b-4981-f859-6c8fef252b86"
      },
      "source": [
        "prumer = (int(data[0]['weather'][\"temperature\"][\"max\"]) + int(data[0]['weather'][\"temperature\"][\"min\"])) / 2\n",
        "print(f\"Průměrná teplota je: {prumer}\")"
      ],
      "execution_count": 43,
      "outputs": [
        {
          "output_type": "stream",
          "text": [
            "Průměrná teplota je: 16.5\n"
          ],
          "name": "stdout"
        }
      ]
    }
  ]
}