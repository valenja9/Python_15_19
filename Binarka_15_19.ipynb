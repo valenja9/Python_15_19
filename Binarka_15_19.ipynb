{
  "nbformat": 4,
  "nbformat_minor": 0,
  "metadata": {
    "colab": {
      "name": "Binarka_15-19.ipynb",
      "provenance": [],
      "authorship_tag": "ABX9TyOYI5DcAvvu9aMkUT554TZc",
      "include_colab_link": true
    },
    "kernelspec": {
      "name": "python3",
      "display_name": "Python 3"
    }
  },
  "cells": [
    {
      "cell_type": "markdown",
      "metadata": {
        "id": "view-in-github",
        "colab_type": "text"
      },
      "source": [
        "<a href=\"https://colab.research.google.com/github/valenja9/Python_15_19/blob/main/Binarka_15_19.ipynb\" target=\"_parent\"><img src=\"https://colab.research.google.com/assets/colab-badge.svg\" alt=\"Open In Colab\"/></a>"
      ]
    },
    {
      "cell_type": "code",
      "metadata": {
        "colab": {
          "base_uri": "https://localhost:8080/",
          "height": 35
        },
        "id": "oR7qVDXJ6USz",
        "outputId": "86639e2e-00f0-4732-d964-6fc15c4dd6a2"
      },
      "source": [
        "\"Ahoj\"[::-1]"
      ],
      "execution_count": null,
      "outputs": [
        {
          "output_type": "execute_result",
          "data": {
            "application/vnd.google.colaboratory.intrinsic+json": {
              "type": "string"
            },
            "text/plain": [
              "'johA'"
            ]
          },
          "metadata": {
            "tags": []
          },
          "execution_count": 3
        }
      ]
    },
    {
      "cell_type": "code",
      "metadata": {
        "id": "KK1n_lcJ6uhL"
      },
      "source": [
        "0123456789 base=10\n",
        "01 base=2"
      ],
      "execution_count": null,
      "outputs": []
    },
    {
      "cell_type": "code",
      "metadata": {
        "colab": {
          "base_uri": "https://localhost:8080/"
        },
        "id": "yR6KU2hk8TQN",
        "outputId": "ecf3364f-7b0d-4d49-a83e-9181c44ea356"
      },
      "source": [
        "pismeno = \"a\"\n",
        "print(ord(pismeno))\n",
        "#bit\n",
        "#byte = 8bit\n",
        "\n",
        "# 128  64  32  16  8  4  2  1  (0-255)\n",
        "#  0    1   1   0  0  0  0  1 = 1 + 32 + 64 = 97\n",
        "\n",
        "# 128  64  32  16  8  4  2  1  (0-255)\n",
        "#  0    1   1   0  0  0  0  1 = 1 + 32 + 64 = 97\n",
        "\n",
        "#112\n",
        "#0 1 1 1 1 0 1 0"
      ],
      "execution_count": null,
      "outputs": [
        {
          "output_type": "stream",
          "text": [
            "97\n"
          ],
          "name": "stdout"
        }
      ]
    },
    {
      "cell_type": "code",
      "metadata": {
        "colab": {
          "base_uri": "https://localhost:8080/",
          "height": 35
        },
        "id": "E5XzXHxXAOpg",
        "outputId": "364b0f79-63d4-4016-a55c-9c155d109abb"
      },
      "source": [
        "chr(241)"
      ],
      "execution_count": null,
      "outputs": [
        {
          "output_type": "execute_result",
          "data": {
            "application/vnd.google.colaboratory.intrinsic+json": {
              "type": "string"
            },
            "text/plain": [
              "'ñ'"
            ]
          },
          "metadata": {
            "tags": []
          },
          "execution_count": 28
        }
      ]
    },
    {
      "cell_type": "code",
      "metadata": {
        "colab": {
          "base_uri": "https://localhost:8080/",
          "height": 253
        },
        "id": "2w8XMbSe8kHf",
        "outputId": "39a236e2-92b3-469c-ff74-dbbe48e4eeca"
      },
      "source": [
        "pismeno = input(\"Zadej pismeno: \")\n",
        "print(ord(pismeno))\n",
        "print(pismeno)\n",
        "dekadicke_cislo = ord(pismeno)\n",
        "binarni = bin(dekadicke_cislo)\n",
        "hodnota_v_binarce = binarni[0] + binarni[2:]\n",
        "print(hodnota_v_binarce)\n"
      ],
      "execution_count": null,
      "outputs": [
        {
          "output_type": "stream",
          "text": [
            "Zadej pismeno: dff\n"
          ],
          "name": "stdout"
        },
        {
          "output_type": "error",
          "ename": "TypeError",
          "evalue": "ignored",
          "traceback": [
            "\u001b[0;31m---------------------------------------------------------------------------\u001b[0m",
            "\u001b[0;31mTypeError\u001b[0m                                 Traceback (most recent call last)",
            "\u001b[0;32m<ipython-input-11-673f7f33e5e2>\u001b[0m in \u001b[0;36m<module>\u001b[0;34m()\u001b[0m\n\u001b[1;32m      1\u001b[0m \u001b[0mpismeno\u001b[0m \u001b[0;34m=\u001b[0m \u001b[0minput\u001b[0m\u001b[0;34m(\u001b[0m\u001b[0;34m\"Zadej pismeno: \"\u001b[0m\u001b[0;34m)\u001b[0m\u001b[0;34m\u001b[0m\u001b[0;34m\u001b[0m\u001b[0m\n\u001b[0;32m----> 2\u001b[0;31m \u001b[0mprint\u001b[0m\u001b[0;34m(\u001b[0m\u001b[0mord\u001b[0m\u001b[0;34m(\u001b[0m\u001b[0mpismeno\u001b[0m\u001b[0;34m)\u001b[0m\u001b[0;34m)\u001b[0m\u001b[0;34m\u001b[0m\u001b[0;34m\u001b[0m\u001b[0m\n\u001b[0m\u001b[1;32m      3\u001b[0m \u001b[0mprint\u001b[0m\u001b[0;34m(\u001b[0m\u001b[0mpismeno\u001b[0m\u001b[0;34m)\u001b[0m\u001b[0;34m\u001b[0m\u001b[0;34m\u001b[0m\u001b[0m\n\u001b[1;32m      4\u001b[0m \u001b[0mdekadicke_cislo\u001b[0m \u001b[0;34m=\u001b[0m \u001b[0mord\u001b[0m\u001b[0;34m(\u001b[0m\u001b[0mpismeno\u001b[0m\u001b[0;34m)\u001b[0m\u001b[0;34m\u001b[0m\u001b[0;34m\u001b[0m\u001b[0m\n\u001b[1;32m      5\u001b[0m \u001b[0mbinarni\u001b[0m \u001b[0;34m=\u001b[0m \u001b[0mbin\u001b[0m\u001b[0;34m(\u001b[0m\u001b[0mdekadicke_cislo\u001b[0m\u001b[0;34m)\u001b[0m\u001b[0;34m\u001b[0m\u001b[0;34m\u001b[0m\u001b[0m\n",
            "\u001b[0;31mTypeError\u001b[0m: ord() expected a character, but string of length 3 found"
          ]
        }
      ]
    },
    {
      "cell_type": "code",
      "metadata": {
        "colab": {
          "base_uri": "https://localhost:8080/"
        },
        "id": "v1leq1hl_YsP",
        "outputId": "dadece33-f7f9-4acf-a107-5b8f9036d7b0"
      },
      "source": [
        "type(binarni)"
      ],
      "execution_count": null,
      "outputs": [
        {
          "output_type": "execute_result",
          "data": {
            "text/plain": [
              "str"
            ]
          },
          "metadata": {
            "tags": []
          },
          "execution_count": 7
        }
      ]
    },
    {
      "cell_type": "code",
      "metadata": {
        "colab": {
          "base_uri": "https://localhost:8080/"
        },
        "id": "QQSej-T9AUA-",
        "outputId": "9d2ec5d3-a024-45f4-a468-a28b7b141d77"
      },
      "source": [
        "pismeno = input(\"uadej pismeno\")\n",
        "print(ord(pismeno))\n",
        "print(pismeno)\n",
        "cislo = ord(pismeno)\n",
        "binarni = bin(cislo)\n",
        "vypsat = binarni[0:1] + binarni[2: + len(binarni)]\n",
        "print(vypsat)"
      ],
      "execution_count": null,
      "outputs": [
        {
          "output_type": "stream",
          "text": [
            "uadej pismenoa\n",
            "97\n",
            "a\n",
            "01100001\n"
          ],
          "name": "stdout"
        }
      ]
    },
    {
      "cell_type": "code",
      "metadata": {
        "colab": {
          "base_uri": "https://localhost:8080/"
        },
        "id": "1s3A4dy5A7fx",
        "outputId": "a3b37426-1d4c-4163-eea8-93422d72dc0c"
      },
      "source": [
        "pismeno = input(\"uadej pismeno\")\n",
        "print(ord(pismeno))\n",
        "print(pismeno)\n",
        "cislo = ord()\n",
        "binarni = bin(cislo)\n",
        "vypsat = binarni[0] + binarni[2:]\n",
        "print(vypsat)"
      ],
      "execution_count": null,
      "outputs": [
        {
          "output_type": "stream",
          "text": [
            "uadej pismenoa\n",
            "97\n",
            "a\n",
            "01100001\n"
          ],
          "name": "stdout"
        }
      ]
    },
    {
      "cell_type": "code",
      "metadata": {
        "id": "z9auAdeVAbcl"
      },
      "source": [
        "pismeno = input(\"Zadej znak: \")\n",
        "dekadicke_cislo = ord(pismeno)\n",
        "print(dekadicke_cislo)\n",
        "binarni = bin(dekadicke_cislo)\n",
        "print(binarni.replace(\"b\",\"\"))"
      ],
      "execution_count": null,
      "outputs": []
    },
    {
      "cell_type": "code",
      "metadata": {
        "colab": {
          "base_uri": "https://localhost:8080/"
        },
        "id": "SZM3FqJDBqSW",
        "outputId": "058d2749-e98f-455d-95f7-ba8267df5bcc"
      },
      "source": [
        "slovo = input(\"Zadej slovo: \")\n",
        "list_dekadickych_cisle = []\n",
        "list_binarnich_cisel = []\n",
        "for pismeno in slovo:\n",
        "  dekadicke_cislo = ord(pismeno)\n",
        "  binarni = bin(dekadicke_cislo)\n",
        "  hodnota_v_binarce = binarni[0] + binarni[2:]\n",
        "  print(\"Zadal jsem pismeno: \", pismeno, \"Dekadicka podoba: \", dekadicke_cislo, \"Binarni podoba: \", hodnota_v_binarce)"
      ],
      "execution_count": null,
      "outputs": [
        {
          "output_type": "stream",
          "text": [
            "Zadej slovo: Python\n",
            "Zadal jsem pismeno:  P Dekadicka podoba:  80 Binarni podoba:  01010000\n",
            "Zadal jsem pismeno:  y Dekadicka podoba:  121 Binarni podoba:  01111001\n",
            "Zadal jsem pismeno:  t Dekadicka podoba:  116 Binarni podoba:  01110100\n",
            "Zadal jsem pismeno:  h Dekadicka podoba:  104 Binarni podoba:  01101000\n",
            "Zadal jsem pismeno:  o Dekadicka podoba:  111 Binarni podoba:  01101111\n",
            "Zadal jsem pismeno:  n Dekadicka podoba:  110 Binarni podoba:  01101110\n"
          ],
          "name": "stdout"
        }
      ]
    },
    {
      "cell_type": "code",
      "metadata": {
        "colab": {
          "base_uri": "https://localhost:8080/"
        },
        "id": "CcXG9U3CDFyj",
        "outputId": "b4933a4d-2f10-47cd-8c06-f62c7b5b6ad0"
      },
      "source": [
        "slovo = input(\"Zadej slovo: \")\n",
        "list_dekadickych_cisel = []\n",
        "list_binarnich_cisel = []\n",
        "for pismeno in slovo:\n",
        "  dekadicke_cislo = ord(pismeno)\n",
        "  binarni = bin(dekadicke_cislo)\n",
        "  hodnota_v_binarce = binarni.replace(\"b\",\"\")\n",
        "  print(\"Zadal jsem pismeno: \", pismeno, \"Dekadicka podoba: \", dekadicke_cislo, \"Binarni podoba: \", hodnota_v_binarce)\n",
        "  list_dekadickych_cisel.append(dekadicke_cislo)\n",
        "  list_binarnich_cisel.append(hodnota_v_binarce)\n",
        "print(list_binarnich_cisel)\n",
        "print(list_dekadickych_cisel)"
      ],
      "execution_count": null,
      "outputs": [
        {
          "output_type": "stream",
          "text": [
            "Zadej slovo: Python\n",
            "Zadal jsem pismeno:  P Dekadicka podoba:  80 Binarni podoba:  01010000\n",
            "Zadal jsem pismeno:  y Dekadicka podoba:  121 Binarni podoba:  01111001\n",
            "Zadal jsem pismeno:  t Dekadicka podoba:  116 Binarni podoba:  01110100\n",
            "Zadal jsem pismeno:  h Dekadicka podoba:  104 Binarni podoba:  01101000\n",
            "Zadal jsem pismeno:  o Dekadicka podoba:  111 Binarni podoba:  01101111\n",
            "Zadal jsem pismeno:  n Dekadicka podoba:  110 Binarni podoba:  01101110\n",
            "['01010000', '01111001', '01110100', '01101000', '01101111', '01101110']\n",
            "[80, 121, 116, 104, 111, 110]\n"
          ],
          "name": "stdout"
        }
      ]
    },
    {
      "cell_type": "code",
      "metadata": {
        "colab": {
          "base_uri": "https://localhost:8080/",
          "height": 35
        },
        "id": "FSc7iF94EUb1",
        "outputId": "3c122ed8-fcc9-4f35-a122-9ee07c698362"
      },
      "source": [
        "import string\n",
        "string.ascii_letters"
      ],
      "execution_count": null,
      "outputs": [
        {
          "output_type": "execute_result",
          "data": {
            "application/vnd.google.colaboratory.intrinsic+json": {
              "type": "string"
            },
            "text/plain": [
              "'abcdefghijklmnopqrstuvwxyzABCDEFGHIJKLMNOPQRSTUVWXYZ'"
            ]
          },
          "metadata": {
            "tags": []
          },
          "execution_count": 17
        }
      ]
    },
    {
      "cell_type": "markdown",
      "metadata": {
        "id": "uWmczkUqEzIk"
      },
      "source": [
        "# Slovnik"
      ]
    },
    {
      "cell_type": "code",
      "metadata": {
        "id": "XRc2f3r5EyD0"
      },
      "source": [
        "\"key\": \"value\"\n",
        "[ \"python\", \"java\"][1]"
      ],
      "execution_count": null,
      "outputs": []
    },
    {
      "cell_type": "code",
      "metadata": {
        "colab": {
          "base_uri": "https://localhost:8080/"
        },
        "id": "J10YnQ3_FDuZ",
        "outputId": "01bd67f1-c735-4175-968d-cb93148b7814"
      },
      "source": [
        "muj_slovnik = {\"python\": 5,\n",
        "               \"Java\": 10,\n",
        "               \"C++\": 15}\n",
        "muj_slovnik[\"Java\"]"
      ],
      "execution_count": null,
      "outputs": [
        {
          "output_type": "execute_result",
          "data": {
            "text/plain": [
              "10"
            ]
          },
          "metadata": {
            "tags": []
          },
          "execution_count": 21
        }
      ]
    },
    {
      "cell_type": "code",
      "metadata": {
        "colab": {
          "base_uri": "https://localhost:8080/"
        },
        "id": "bxy4Hqx4Fcdi",
        "outputId": "633f884d-cc62-48f9-862d-92b424ea86ca"
      },
      "source": [
        "muj_slovnik.keys()"
      ],
      "execution_count": null,
      "outputs": [
        {
          "output_type": "execute_result",
          "data": {
            "text/plain": [
              "dict_keys(['python', 'Java', 'C++'])"
            ]
          },
          "metadata": {
            "tags": []
          },
          "execution_count": 23
        }
      ]
    },
    {
      "cell_type": "code",
      "metadata": {
        "colab": {
          "base_uri": "https://localhost:8080/"
        },
        "id": "_pYkgRMDFirE",
        "outputId": "b533baf2-fa21-40a4-816d-e23a5364ecb5"
      },
      "source": [
        "muj_slovnik.values()"
      ],
      "execution_count": null,
      "outputs": [
        {
          "output_type": "execute_result",
          "data": {
            "text/plain": [
              "dict_values([5, 10, 15])"
            ]
          },
          "metadata": {
            "tags": []
          },
          "execution_count": 24
        }
      ]
    },
    {
      "cell_type": "code",
      "metadata": {
        "colab": {
          "base_uri": "https://localhost:8080/"
        },
        "id": "6AafX-AEFkpm",
        "outputId": "1ce1d28b-3944-4094-e822-ccf5511998ed"
      },
      "source": [
        "muj_slovnik.items()"
      ],
      "execution_count": null,
      "outputs": [
        {
          "output_type": "execute_result",
          "data": {
            "text/plain": [
              "dict_items([('python', 5), ('Java', 10), ('C++', 15)])"
            ]
          },
          "metadata": {
            "tags": []
          },
          "execution_count": 25
        }
      ]
    },
    {
      "cell_type": "code",
      "metadata": {
        "colab": {
          "base_uri": "https://localhost:8080/"
        },
        "id": "vjyn8pC7FqEm",
        "outputId": "deae9117-2ae4-432f-cb17-6f4f98d55a24"
      },
      "source": [
        "muj_slovnik[\"Python\"] = 56\n",
        "muj_slovnik"
      ],
      "execution_count": null,
      "outputs": [
        {
          "output_type": "execute_result",
          "data": {
            "text/plain": [
              "{'C++': 15, 'Java': 10, 'Python': 56, 'python': 5}"
            ]
          },
          "metadata": {
            "tags": []
          },
          "execution_count": 27
        }
      ]
    },
    {
      "cell_type": "code",
      "metadata": {
        "id": "aztPIauvEk9E"
      },
      "source": [
        "import string\n",
        "\n",
        "slovnik_pismeno_na_binarku = {}\n",
        "for pismeno in string.ascii_letters:\n",
        "  bin_oprava = bin(ord(pismeno))\n",
        "  slovnik_pismeno_na_binarku[pismeno] = bin_oprava[0] + bin_oprava[2:]"
      ],
      "execution_count": null,
      "outputs": []
    },
    {
      "cell_type": "code",
      "metadata": {
        "id": "rOkDZmz9yhAP",
        "colab": {
          "base_uri": "https://localhost:8080/"
        },
        "outputId": "f8f45284-180b-4c58-a3c4-7e79c8bbf1ef"
      },
      "source": [
        "slovnik_pismeno_na_binarku"
      ],
      "execution_count": null,
      "outputs": [
        {
          "output_type": "execute_result",
          "data": {
            "text/plain": [
              "{'A': '01000001',\n",
              " 'B': '01000010',\n",
              " 'C': '01000011',\n",
              " 'D': '01000100',\n",
              " 'E': '01000101',\n",
              " 'F': '01000110',\n",
              " 'G': '01000111',\n",
              " 'H': '01001000',\n",
              " 'I': '01001001',\n",
              " 'J': '01001010',\n",
              " 'K': '01001011',\n",
              " 'L': '01001100',\n",
              " 'M': '01001101',\n",
              " 'N': '01001110',\n",
              " 'O': '01001111',\n",
              " 'P': '01010000',\n",
              " 'Q': '01010001',\n",
              " 'R': '01010010',\n",
              " 'S': '01010011',\n",
              " 'T': '01010100',\n",
              " 'U': '01010101',\n",
              " 'V': '01010110',\n",
              " 'W': '01010111',\n",
              " 'X': '01011000',\n",
              " 'Y': '01011001',\n",
              " 'Z': '01011010',\n",
              " 'a': '01100001',\n",
              " 'b': '01100010',\n",
              " 'c': '01100011',\n",
              " 'd': '01100100',\n",
              " 'e': '01100101',\n",
              " 'f': '01100110',\n",
              " 'g': '01100111',\n",
              " 'h': '01101000',\n",
              " 'i': '01101001',\n",
              " 'j': '01101010',\n",
              " 'k': '01101011',\n",
              " 'l': '01101100',\n",
              " 'm': '01101101',\n",
              " 'n': '01101110',\n",
              " 'o': '01101111',\n",
              " 'p': '01110000',\n",
              " 'q': '01110001',\n",
              " 'r': '01110010',\n",
              " 's': '01110011',\n",
              " 't': '01110100',\n",
              " 'u': '01110101',\n",
              " 'v': '01110110',\n",
              " 'w': '01110111',\n",
              " 'x': '01111000',\n",
              " 'y': '01111001',\n",
              " 'z': '01111010'}"
            ]
          },
          "metadata": {
            "tags": []
          },
          "execution_count": 2
        }
      ]
    },
    {
      "cell_type": "code",
      "metadata": {
        "id": "C_twMjFLGiru"
      },
      "source": [
        "slovnik_binarka_na_pismena = {}\n",
        "for pismeno in string.ascii_letters:\n",
        "  bin_oprava = bin(ord(pismeno))\n",
        "  slovnik_binarka_na_pismena[bin_oprava[0] + bin_oprava[2:]] = pismeno"
      ],
      "execution_count": null,
      "outputs": []
    },
    {
      "cell_type": "code",
      "metadata": {
        "id": "eGjKpGcVeHFE"
      },
      "source": [
        "slovnik = {}"
      ],
      "execution_count": null,
      "outputs": []
    },
    {
      "cell_type": "code",
      "metadata": {
        "colab": {
          "base_uri": "https://localhost:8080/",
          "height": 35
        },
        "id": "lENCwCs9fWSj",
        "outputId": "50d35080-8061-4552-8319-538e4bfbefa2"
      },
      "source": [
        "\"\"\"01000001,01101000,01101111,01101010,01101010,01100001,01101011,01110011,01100101,01101101,01100001,01110011\"\"\".replace(\"\", \",\")"
      ],
      "execution_count": null,
      "outputs": [
        {
          "output_type": "execute_result",
          "data": {
            "application/vnd.google.colaboratory.intrinsic+json": {
              "type": "string"
            },
            "text/plain": [
              "'01101010,01100001,01101110,01100101,01100011,01101000,01100011,01101001,01110100,01100101,01110011,01110100'"
            ]
          },
          "metadata": {
            "tags": []
          },
          "execution_count": 29
        }
      ]
    },
    {
      "cell_type": "code",
      "metadata": {
        "colab": {
          "base_uri": "https://localhost:8080/"
        },
        "id": "RUUQwnl8G1yy",
        "outputId": "6bfbfcd6-f569-4046-c366-6bde60594647"
      },
      "source": [
        "zadej = input(\"Zadej text: \")\n",
        "n = \"\"\n",
        "jmeno = input(\"Zadej kdo pise>: \")\n",
        "\n",
        "for slovo in zadej.split(\",\"):\n",
        "  n += slovnik_binarka_na_pismena[slovo]\n",
        "slovnik[jmeno] = n\n",
        "\n",
        "print(jmeno, n)\n",
        "print(slovnik) "
      ],
      "execution_count": null,
      "outputs": [
        {
          "output_type": "stream",
          "text": [
            "Zadej text: 01000001,01101000,01101111,01101010,01101010,01100001,01101011,01110011,01100101,01101101,01100001,01110011\n",
            "Zadej kdo pise>: Laura\n",
            "Laura Ahojjaksemas\n",
            "{'Krystof': 'XMen', 'adam': 'cus', 'krystofII': 'Alexadr', 'Oleg': 'PythontojeeUPER', 'Sofie': 'Super', 'Kaja': 'Mamhotovo', 'pepa': 'Iakubeahoj', 'Vojta': 'janechcitest', 'Laura': 'Ahojjaksemas'}\n"
          ],
          "name": "stdout"
        }
      ]
    },
    {
      "cell_type": "code",
      "metadata": {
        "id": "ZFPNzlxofEXo"
      },
      "source": [
        ""
      ],
      "execution_count": null,
      "outputs": []
    },
    {
      "cell_type": "code",
      "metadata": {
        "colab": {
          "base_uri": "https://localhost:8080/",
          "height": 35
        },
        "id": "grswfKYFGZcp",
        "outputId": "92186f95-88b8-4156-fd6c-50dbf9fd065d"
      },
      "source": [
        "slovnik_pismeno_na_binarku[\"c\"]"
      ],
      "execution_count": null,
      "outputs": [
        {
          "output_type": "execute_result",
          "data": {
            "application/vnd.google.colaboratory.intrinsic+json": {
              "type": "string"
            },
            "text/plain": [
              "'01100011'"
            ]
          },
          "metadata": {
            "tags": []
          },
          "execution_count": 33
        }
      ]
    },
    {
      "cell_type": "code",
      "metadata": {
        "colab": {
          "base_uri": "https://localhost:8080/"
        },
        "id": "rENmvbQ2G5TA",
        "outputId": "5018c2e1-00a8-4046-e134-162b1ef5eaa0"
      },
      "source": [
        "slovo = input(\"Zadej slovo: \")\n",
        "text_binarky = \"\"\n",
        "for pismeno in slovo:\n",
        "  text_binarky += slovnik_pismeno_na_binarku[pismeno] + \" \"\n",
        "print(text_binarky)"
      ],
      "execution_count": null,
      "outputs": [
        {
          "output_type": "stream",
          "text": [
            "Zadej slovo: Python\n",
            "01010000 01111001 01110100 01101000 01101111 01101110 \n"
          ],
          "name": "stdout"
        }
      ]
    },
    {
      "cell_type": "code",
      "metadata": {
        "colab": {
          "base_uri": "https://localhost:8080/",
          "height": 35
        },
        "id": "8CUtK8v-HyOT",
        "outputId": "ef4a1936-129b-4e76-a371-416c2f6bd01e"
      },
      "source": [
        "puvodni_text = \"\"\n",
        "for binarka in text_binarky.split(\" \")[:-1]:\n",
        "  puvodni_text += slovnik_binarka_na_pismena[binarka]\n",
        "puvodni_text"
      ],
      "execution_count": null,
      "outputs": [
        {
          "output_type": "execute_result",
          "data": {
            "application/vnd.google.colaboratory.intrinsic+json": {
              "type": "string"
            },
            "text/plain": [
              "'Python'"
            ]
          },
          "metadata": {
            "tags": []
          },
          "execution_count": 41
        }
      ]
    },
    {
      "cell_type": "code",
      "metadata": {
        "id": "I9IoJgbDIZ-6"
      },
      "source": [
        "import string\n",
        "\n",
        "#vygenerovani slovniku\n",
        "def generace_obou_slovniku() -> tuple:\n",
        "  \"\"\"Tato funce generuje dva slovniky znaku a binarky\"\"\"\n",
        "  slovnik_pismeno_na_binarku = {}\n",
        "  for pismeno in string.ascii_letters:\n",
        "    bin_oprava = bin(ord(pismeno))\n",
        "    slovnik_pismeno_na_binarku[pismeno] = bin_oprava[0] + bin_oprava[2:]\n",
        "  slovnik_binarka_na_pismena = {}\n",
        "\n",
        "  for pismeno in string.ascii_letters:\n",
        "    bin_oprava = bin(ord(pismeno))\n",
        "    slovnik_binarka_na_pismena[bin_oprava[0] + bin_oprava[2:]] = pismeno\n",
        "  slovnik_binarka_na_pismena\n",
        "  return slovnik_pismeno_na_binarku, slovnik_binarka_na_pismena\n",
        "\n",
        "#slovo do binarky\n",
        "def text_do_binarky(slovnik_pismeno_na_binarku: dict) -> str:\n",
        "  list_slov = input(\"Zadej slovo: \").split(\" \")\n",
        "  text_binarky = \"\"\n",
        "  for slovo in list_slov:\n",
        "    for pismeno in slovo.strip(string.punctuation):\n",
        "      text_binarky += slovnik_pismeno_na_binarku[pismeno] + \" \"\n",
        "  return text_binarky\n",
        "\n",
        "\n",
        "#binarka na slovo\n",
        "def binery_do_textu(text_binarky: str, slovnik_pismeno_na_binarku: dict) -> str:\n",
        "  puvodni_text = \"\"\n",
        "  for binarka in text_binarky.split(\" \")[:-1]:\n",
        "    puvodni_text += slovnik_pismeno_na_binarku[binarka]\n",
        "  return puvodni_text\n",
        "\n",
        "\n",
        "def hlavni():\n",
        "  dict, redict = generace_obou_slovniku()\n",
        "  text_v_binarce = text_do_binarky(dict)\n",
        "  print(text_v_binarce)\n",
        "  puvodni_text_z_funcke = binery_do_textu(text_v_binarce, redict)\n",
        "  print(puvodni_text_z_funcke)\n",
        "\n"
      ],
      "execution_count": null,
      "outputs": []
    },
    {
      "cell_type": "code",
      "metadata": {
        "colab": {
          "base_uri": "https://localhost:8080/",
          "height": 346
        },
        "id": "-OlwRw9yMsAm",
        "outputId": "8c48f842-d402-49bc-f855-2e860082ec50"
      },
      "source": [
        "if __name__ == \"__main__\":\n",
        "  hlavni()"
      ],
      "execution_count": null,
      "outputs": [
        {
          "output_type": "stream",
          "text": [
            "Zadej slovo: 01100011,01110101,01110011\n"
          ],
          "name": "stdout"
        },
        {
          "output_type": "error",
          "ename": "KeyError",
          "evalue": "ignored",
          "traceback": [
            "\u001b[0;31m---------------------------------------------------------------------------\u001b[0m",
            "\u001b[0;31mKeyError\u001b[0m                                  Traceback (most recent call last)",
            "\u001b[0;32m<ipython-input-2-efbbd62984ed>\u001b[0m in \u001b[0;36m<module>\u001b[0;34m()\u001b[0m\n\u001b[1;32m      1\u001b[0m \u001b[0;32mif\u001b[0m \u001b[0m__name__\u001b[0m \u001b[0;34m==\u001b[0m \u001b[0;34m\"__main__\"\u001b[0m\u001b[0;34m:\u001b[0m\u001b[0;34m\u001b[0m\u001b[0;34m\u001b[0m\u001b[0m\n\u001b[0;32m----> 2\u001b[0;31m   \u001b[0mhlavni\u001b[0m\u001b[0;34m(\u001b[0m\u001b[0;34m)\u001b[0m\u001b[0;34m\u001b[0m\u001b[0;34m\u001b[0m\u001b[0m\n\u001b[0m",
            "\u001b[0;32m<ipython-input-1-b4cbb76d3d9a>\u001b[0m in \u001b[0;36mhlavni\u001b[0;34m()\u001b[0m\n\u001b[1;32m     36\u001b[0m \u001b[0;32mdef\u001b[0m \u001b[0mhlavni\u001b[0m\u001b[0;34m(\u001b[0m\u001b[0;34m)\u001b[0m\u001b[0;34m:\u001b[0m\u001b[0;34m\u001b[0m\u001b[0;34m\u001b[0m\u001b[0m\n\u001b[1;32m     37\u001b[0m   \u001b[0mdict\u001b[0m\u001b[0;34m,\u001b[0m \u001b[0mredict\u001b[0m \u001b[0;34m=\u001b[0m \u001b[0mgenerace_obou_slovniku\u001b[0m\u001b[0;34m(\u001b[0m\u001b[0;34m)\u001b[0m\u001b[0;34m\u001b[0m\u001b[0;34m\u001b[0m\u001b[0m\n\u001b[0;32m---> 38\u001b[0;31m   \u001b[0mtext_v_binarce\u001b[0m \u001b[0;34m=\u001b[0m \u001b[0mtext_do_binarky\u001b[0m\u001b[0;34m(\u001b[0m\u001b[0mdict\u001b[0m\u001b[0;34m)\u001b[0m\u001b[0;34m\u001b[0m\u001b[0;34m\u001b[0m\u001b[0m\n\u001b[0m\u001b[1;32m     39\u001b[0m   \u001b[0mprint\u001b[0m\u001b[0;34m(\u001b[0m\u001b[0mtext_v_binarce\u001b[0m\u001b[0;34m)\u001b[0m\u001b[0;34m\u001b[0m\u001b[0;34m\u001b[0m\u001b[0m\n\u001b[1;32m     40\u001b[0m   \u001b[0mpuvodni_text_z_funcke\u001b[0m \u001b[0;34m=\u001b[0m \u001b[0mbinery_do_textu\u001b[0m\u001b[0;34m(\u001b[0m\u001b[0mtext_v_binarce\u001b[0m\u001b[0;34m,\u001b[0m \u001b[0mredict\u001b[0m\u001b[0;34m)\u001b[0m\u001b[0;34m\u001b[0m\u001b[0;34m\u001b[0m\u001b[0m\n",
            "\u001b[0;32m<ipython-input-1-b4cbb76d3d9a>\u001b[0m in \u001b[0;36mtext_do_binarky\u001b[0;34m(slovnik_pismeno_na_binarku)\u001b[0m\n\u001b[1;32m     22\u001b[0m   \u001b[0;32mfor\u001b[0m \u001b[0mslovo\u001b[0m \u001b[0;32min\u001b[0m \u001b[0mlist_slov\u001b[0m\u001b[0;34m:\u001b[0m\u001b[0;34m\u001b[0m\u001b[0;34m\u001b[0m\u001b[0m\n\u001b[1;32m     23\u001b[0m     \u001b[0;32mfor\u001b[0m \u001b[0mpismeno\u001b[0m \u001b[0;32min\u001b[0m \u001b[0mslovo\u001b[0m\u001b[0;34m.\u001b[0m\u001b[0mstrip\u001b[0m\u001b[0;34m(\u001b[0m\u001b[0mstring\u001b[0m\u001b[0;34m.\u001b[0m\u001b[0mpunctuation\u001b[0m\u001b[0;34m)\u001b[0m\u001b[0;34m:\u001b[0m\u001b[0;34m\u001b[0m\u001b[0;34m\u001b[0m\u001b[0m\n\u001b[0;32m---> 24\u001b[0;31m       \u001b[0mtext_binarky\u001b[0m \u001b[0;34m+=\u001b[0m \u001b[0mslovnik_pismeno_na_binarku\u001b[0m\u001b[0;34m[\u001b[0m\u001b[0mpismeno\u001b[0m\u001b[0;34m]\u001b[0m \u001b[0;34m+\u001b[0m \u001b[0;34m\" \"\u001b[0m\u001b[0;34m\u001b[0m\u001b[0;34m\u001b[0m\u001b[0m\n\u001b[0m\u001b[1;32m     25\u001b[0m   \u001b[0;32mreturn\u001b[0m \u001b[0mtext_binarky\u001b[0m\u001b[0;34m\u001b[0m\u001b[0;34m\u001b[0m\u001b[0m\n\u001b[1;32m     26\u001b[0m \u001b[0;34m\u001b[0m\u001b[0m\n",
            "\u001b[0;31mKeyError\u001b[0m: '0'"
          ]
        }
      ]
    },
    {
      "cell_type": "code",
      "metadata": {
        "colab": {
          "base_uri": "https://localhost:8080/",
          "height": 35
        },
        "id": "dSszYaxzJwW1",
        "outputId": "a23af655-3a6f-485b-c01d-495e0e745363"
      },
      "source": [
        "string.punctuation"
      ],
      "execution_count": null,
      "outputs": [
        {
          "output_type": "execute_result",
          "data": {
            "application/vnd.google.colaboratory.intrinsic+json": {
              "type": "string"
            },
            "text/plain": [
              "'!\"#$%&\\'()*+,-./:;<=>?@[\\\\]^_`{|}~'"
            ]
          },
          "metadata": {
            "tags": []
          },
          "execution_count": 44
        }
      ]
    },
    {
      "cell_type": "code",
      "metadata": {
        "colab": {
          "base_uri": "https://localhost:8080/"
        },
        "id": "v9qxx_OJJjg4",
        "outputId": "c90ee0f2-f20b-4fa3-f60f-f0885354b8da"
      },
      "source": [
        "list_slov = input(\"Zadej slovo: \").split(\" \")\n",
        "text_binarky = \"\"\n",
        "for slovo in list_slov:\n",
        "  for pismeno in slovo.strip(string.punctuation):\n",
        "    text_binarky += slovnik_pismeno_na_binarku[pismeno] + \" \"\n",
        "print(text_binarky)\n"
      ],
      "execution_count": null,
      "outputs": [
        {
          "output_type": "stream",
          "text": [
            "Zadej slovo: Python je skvely jazyk, ale uz se tesim az bude konec.\n",
            "01010000 01111001 01110100 01101000 01101111 01101110 01101010 01100101 01110011 01101011 01110110 01100101 01101100 01111001 01101010 01100001 01111010 01111001 01101011 01100001 01101100 01100101 01110101 01111010 01110011 01100101 01110100 01100101 01110011 01101001 01101101 01100001 01111010 01100010 01110101 01100100 01100101 01101011 01101111 01101110 01100101 01100011 \n"
          ],
          "name": "stdout"
        }
      ]
    },
    {
      "cell_type": "code",
      "metadata": {
        "id": "hBKM2HcV9jek"
      },
      "source": [
        "#\n",
        "clanek = \"\"\"Warner Bros. began to develop a live-action Justice League film in 2007. The studio tapped Michele and Kieran Mulroney to pen a screenplay which became known as Justice League: Mortal. George Miller signed on to direct later that year with casting taking place shortly after. Warner Bros. fast-tracked the film for a summer 2009 release but production was halted by the 2007-08 Writers Guild of America strike. The project was cancelled following production delays and budgetary concerns despite the principal roles having been already cast. A Justice League film would re-enter development as part of Warner Bros' upcoming DC film slate in October 2014, with Snyder on board to direct and Terrio attached to write the script. The film was initially titled Justice League Part One, with a second film (under the name Justice League Part Two) intended to follow in 2019. However, the sequel was indefinitely delayed to accommodate the production of a standalone Batman film starring Affleck. Principal photography took place from April to October 2016. After Snyder stepped down from the film following the death of his daughter, Whedon was hired to oversee the remainder of post-production, including writing and directing additional scenes, which changed many aspects of the film. With an estimated production budget of $300 million, Justice League is one of the most expensive films ever made\"\"\""
      ],
      "execution_count": null,
      "outputs": []
    },
    {
      "cell_type": "code",
      "metadata": {
        "id": "0fTxKTw8--U3"
      },
      "source": [
        "vety = clanek.split(\".\")"
      ],
      "execution_count": null,
      "outputs": []
    },
    {
      "cell_type": "code",
      "metadata": {
        "colab": {
          "base_uri": "https://localhost:8080/"
        },
        "id": "1fzErg8H-ehd",
        "outputId": "884d2a47-8147-4f59-8cc9-a39f2d63c667"
      },
      "source": [
        "#pro delsi text pouziji \"\"\"\"\"\"\n",
        "clanek = \"\"\"Warner Bros. began to develop a live-action Justice League film in 2007. The studio tapped Michele and Kieran Mulroney to pen a screenplay which became known as Justice League: Mortal. George Miller signed on to direct later that year with casting taking place shortly after. Warner Bros. fast-tracked the film for a summer 2009 release but production was halted by the 2007-08 Writers Guild of America strike. The project was cancelled following production delays and budgetary concerns despite the principal roles having been already cast. A Justice League film would re-enter development as part of Warner Bros' upcoming DC film slate in October 2014, with Snyder on board to direct and Terrio attached to write the script. The film was initially titled Justice League Part One, with a second film (under the name Justice League Part Two) intended to follow in 2019. However, the sequel was indefinitely delayed to accommodate the production of a standalone Batman film starring Affleck. Principal photography took place from April to October 2016. After Snyder stepped down from the film following the death of his daughter, Whedon was hired to oversee the remainder of post-production, including writing and directing additional scenes, which changed many aspects of the film. With an estimated production budget of $300 million, Justice League is one of the most expensive films ever made\"\"\"\n",
        "vety = clanek.split(\".\") #Rozdeleni textu na vety\n",
        "list_poctu_slov = []\n",
        "\n",
        "#\n",
        "for veta in vety: #pro kazdou vetu ve vetach mi udelej to co je uvnitr forcyklu.\n",
        "  pocet = 0  \n",
        "  for slovo in veta.split(\" \"): #pro kazde slovo v rozdelenych slovech vety mi udelej to co je ve forcyklu.\n",
        "      pocet += 1\n",
        "  list_poctu_slov.append(pocet) \n",
        "list_poctu_slov     "
      ],
      "execution_count": null,
      "outputs": [
        {
          "output_type": "execute_result",
          "data": {
            "text/plain": [
              "[2, 11, 19, 16, 3, 21, 19, 33, 26, 18, 10, 36, 20]"
            ]
          },
          "metadata": {
            "tags": []
          },
          "execution_count": 9
        }
      ]
    },
    {
      "cell_type": "code",
      "metadata": {
        "id": "k1xuYY8nAQeZ"
      },
      "source": [
        "#pro delsi text pouziji \"\"\"\"\"\"\n",
        "clanek = \"\"\"Warner Bros. began to develop a live-action Justice League film in 2007. The studio tapped Michele and Kieran Mulroney to pen a screenplay which became known as Justice League: Mortal. George Miller signed on to direct later that year with casting taking place shortly after. Warner Bros. fast-tracked the film for a summer 2009 release but production was halted by the 2007-08 Writers Guild of America strike. The project was cancelled following production delays and budgetary concerns despite the principal roles having been already cast. A Justice League film would re-enter development as part of Warner Bros' upcoming DC film slate in October 2014, with Snyder on board to direct and Terrio attached to write the script. The film was initially titled Justice League Part One, with a second film (under the name Justice League Part Two) intended to follow in 2019. However, the sequel was indefinitely delayed to accommodate the production of a standalone Batman film starring Affleck. Principal photography took place from April to October 2016. After Snyder stepped down from the film following the death of his daughter, Whedon was hired to oversee the remainder of post-production, including writing and directing additional scenes, which changed many aspects of the film. With an estimated production budget of $300 million, Justice League is one of the most expensive films ever made\"\"\"\n",
        "vety = clanek.split(\".\") #Rozdeleni textu na vety\n",
        "list_poctu_slov = []\n",
        "\n",
        "#\n",
        "for veta in vety:\n",
        "  pocet = len(veta.split(\" \"))\n",
        "  list_poctu_slov.append(pocet) \n",
        "list_poctu_slov     "
      ],
      "execution_count": null,
      "outputs": []
    },
    {
      "cell_type": "markdown",
      "metadata": {
        "id": "Kh4qY3TfBaMy"
      },
      "source": [
        "# Ucim se jazyky"
      ]
    },
    {
      "cell_type": "code",
      "metadata": {
        "id": "fEwmqNXJDq7V"
      },
      "source": [
        "klic:hodnota"
      ],
      "execution_count": null,
      "outputs": []
    },
    {
      "cell_type": "code",
      "metadata": {
        "colab": {
          "base_uri": "https://localhost:8080/"
        },
        "id": "DxPrkCBUDw7B",
        "outputId": "c38aeba3-0fda-4c5f-e8dc-245bb7d2bbb6"
      },
      "source": [
        "k, h = \"lazy,líný\".split(\",\")\n",
        "print(k, h)"
      ],
      "execution_count": null,
      "outputs": [
        {
          "output_type": "stream",
          "text": [
            "lazy líný\n"
          ],
          "name": "stdout"
        }
      ]
    },
    {
      "cell_type": "code",
      "metadata": {
        "id": "u1_a6nFpEiu5"
      },
      "source": [
        "list = [\"lazy\",\"tall\"]\n",
        "list[0]\n",
        "list[1]"
      ],
      "execution_count": null,
      "outputs": []
    },
    {
      "cell_type": "code",
      "metadata": {
        "colab": {
          "base_uri": "https://localhost:8080/",
          "height": 35
        },
        "id": "9j7kd57GEQbp",
        "outputId": "2e57735e-171f-4af9-942a-4848548eb85a"
      },
      "source": [
        "slovnik = {\"lazy\": \"líný\", \"tall\": \"vysoký\"}\n",
        "slovnik[\"tall\"]"
      ],
      "execution_count": null,
      "outputs": [
        {
          "output_type": "execute_result",
          "data": {
            "application/vnd.google.colaboratory.intrinsic+json": {
              "type": "string"
            },
            "text/plain": [
              "'vysoký'"
            ]
          },
          "metadata": {
            "tags": []
          },
          "execution_count": 21
        }
      ]
    },
    {
      "cell_type": "code",
      "metadata": {
        "colab": {
          "base_uri": "https://localhost:8080/"
        },
        "id": "JL8BfGlXBKiK",
        "outputId": "c7ae6c17-97b0-4cb9-fb93-5e7ab4415030"
      },
      "source": [
        "slovnik = {\"lazy\": \"líný\", \"tall\": \"vysoký\"}\n",
        "\n",
        "while True:\n",
        "  dvojice_slov = input(\"Zadej klic a hodnotu(oddel je carkou) nebo zadej q pro exit\").lower()\n",
        "  if dvojice_slov == \"q\":\n",
        "    break\n",
        "  else:\n",
        "    klic, hodnota = dvojice_slov.split(\",\")\n",
        "    slovnik[klic] = hodnota\n",
        "slovnik"
      ],
      "execution_count": null,
      "outputs": [
        {
          "output_type": "stream",
          "text": [
            "Zadej klic a hodnotu(oddel je carkou) nebo zadej q pro exithello,ahoj\n",
            "Zadej klic a hodnotu(oddel je carkou) nebo zadej q pro exitworld,svet\n",
            "Zadej klic a hodnotu(oddel je carkou) nebo zadej q pro exitq\n"
          ],
          "name": "stdout"
        },
        {
          "output_type": "execute_result",
          "data": {
            "text/plain": [
              "{'hello': 'ahoj', 'lazy': 'líný', 'tall': 'vysoký', 'world': 'svet'}"
            ]
          },
          "metadata": {
            "tags": []
          },
          "execution_count": 1
        }
      ]
    },
    {
      "cell_type": "code",
      "metadata": {
        "id": "fJ0wTAimLtur"
      },
      "source": [
        "import pickle\n",
        "with open('filename.pickle', 'wb') as handle:\n",
        "    pickle.dump(slovnik, handle, protocol=pickle.HIGHEST_PROTOCOL)\n"
      ],
      "execution_count": null,
      "outputs": []
    },
    {
      "cell_type": "code",
      "metadata": {
        "id": "EiLI2XWzMMyp"
      },
      "source": [
        "with open('filename.pickle', 'rb') as handle:\n",
        "    b = pickle.load(handle)"
      ],
      "execution_count": null,
      "outputs": []
    },
    {
      "cell_type": "code",
      "metadata": {
        "colab": {
          "base_uri": "https://localhost:8080/"
        },
        "id": "bSqmC2yFXZoN",
        "outputId": "b1f5d74e-64b9-412f-93b5-ac0b69e35c09"
      },
      "source": [
        "!pip install pyttsx3"
      ],
      "execution_count": null,
      "outputs": [
        {
          "output_type": "stream",
          "text": [
            "Collecting pyttsx3\n",
            "  Downloading https://files.pythonhosted.org/packages/33/9a/de4781245f5ad966646fd276259ef7cfd400ba3cf7d5db7c0d5aab310c20/pyttsx3-2.90-py3-none-any.whl\n",
            "Installing collected packages: pyttsx3\n",
            "Successfully installed pyttsx3-2.90\n"
          ],
          "name": "stdout"
        }
      ]
    },
    {
      "cell_type": "code",
      "metadata": {
        "colab": {
          "base_uri": "https://localhost:8080/",
          "height": 463
        },
        "id": "hh3L1fFBMkDJ",
        "outputId": "611bc3a0-f83c-4c39-b68b-8a6f58b5dc78"
      },
      "source": [
        "import pickle\n",
        "# import pyttsx3\n",
        "\n",
        "\n",
        "# def talk(text):\n",
        "#     engine.say(text)\n",
        "#     engine.runAndWait()\n",
        "\n",
        "# engine = pyttsx3.init()\n",
        "\n",
        "oddelovac = 40*\"=\"\n",
        "\n",
        "mode = input(\"Chceš vytvořit prázdný slovník(vytvorit), anebo načíst už vytvořený(nacist)? \").lower()\n",
        "\n",
        "while True:\n",
        "  if mode == \"vytvorit\":\n",
        "\n",
        "    slovnik = {}\n",
        "    jmeno = input(\"Zadej jmeno souboru pro uložení: \")\n",
        "    break\n",
        "\n",
        "  elif mode == \"nacist\":\n",
        "\n",
        "    jmeno = input(\"Zadej jmeno souboru: \")\n",
        "\n",
        "    with open(f'{jmeno}.pickle', 'rb') as handle:\n",
        "      slovnik = pickle.load(handle)\n",
        "    print(oddelovac)\n",
        "    print(*list(slovnik.keys()))\n",
        "    for d in list(slovnik.keys()):\n",
        "      talk(d)\n",
        "    print(oddelovac)\n",
        "    break\n",
        "\n",
        "  else: \n",
        "    print(\"špatná volba. \")\n",
        "\n",
        "\n",
        "while True:\n",
        "  dvojice_slov = input(\"Zadej klic a hodnotu(oddel je carkou) nebo zadej q pro exit\").lower()\n",
        "  if dvojice_slov == \"q\":\n",
        "    break\n",
        "  else:\n",
        "    klic, hodnota = dvojice_slov.split(\",\")\n",
        "    slovnik[klic] = hodnota\n",
        "\n",
        "with open(f'{jmeno}.pickle', 'wb') as handle:\n",
        "    pickle.dump(slovnik, handle, protocol=pickle.HIGHEST_PROTOCOL)\n",
        "print(f\"Vytvořil jsem soubor: {jmeno}\")\n",
        "print(oddelovac)\n",
        "print(*list(slovnik.keys()))\n",
        "print(oddelovac)\n",
        "\n"
      ],
      "execution_count": null,
      "outputs": [
        {
          "output_type": "error",
          "ename": "OSError",
          "evalue": "ignored",
          "traceback": [
            "\u001b[0;31m---------------------------------------------------------------------------\u001b[0m",
            "\u001b[0;31mKeyError\u001b[0m                                  Traceback (most recent call last)",
            "\u001b[0;32m/usr/local/lib/python3.7/dist-packages/pyttsx3/__init__.py\u001b[0m in \u001b[0;36minit\u001b[0;34m(driverName, debug)\u001b[0m\n\u001b[1;32m     19\u001b[0m     \u001b[0;32mtry\u001b[0m\u001b[0;34m:\u001b[0m\u001b[0;34m\u001b[0m\u001b[0;34m\u001b[0m\u001b[0m\n\u001b[0;32m---> 20\u001b[0;31m         \u001b[0meng\u001b[0m \u001b[0;34m=\u001b[0m \u001b[0m_activeEngines\u001b[0m\u001b[0;34m[\u001b[0m\u001b[0mdriverName\u001b[0m\u001b[0;34m]\u001b[0m\u001b[0;34m\u001b[0m\u001b[0;34m\u001b[0m\u001b[0m\n\u001b[0m\u001b[1;32m     21\u001b[0m     \u001b[0;32mexcept\u001b[0m \u001b[0mKeyError\u001b[0m\u001b[0;34m:\u001b[0m\u001b[0;34m\u001b[0m\u001b[0;34m\u001b[0m\u001b[0m\n",
            "\u001b[0;32m/usr/lib/python3.7/weakref.py\u001b[0m in \u001b[0;36m__getitem__\u001b[0;34m(self, key)\u001b[0m\n\u001b[1;32m    136\u001b[0m             \u001b[0mself\u001b[0m\u001b[0;34m.\u001b[0m\u001b[0m_commit_removals\u001b[0m\u001b[0;34m(\u001b[0m\u001b[0;34m)\u001b[0m\u001b[0;34m\u001b[0m\u001b[0;34m\u001b[0m\u001b[0m\n\u001b[0;32m--> 137\u001b[0;31m         \u001b[0mo\u001b[0m \u001b[0;34m=\u001b[0m \u001b[0mself\u001b[0m\u001b[0;34m.\u001b[0m\u001b[0mdata\u001b[0m\u001b[0;34m[\u001b[0m\u001b[0mkey\u001b[0m\u001b[0;34m]\u001b[0m\u001b[0;34m(\u001b[0m\u001b[0;34m)\u001b[0m\u001b[0;34m\u001b[0m\u001b[0;34m\u001b[0m\u001b[0m\n\u001b[0m\u001b[1;32m    138\u001b[0m         \u001b[0;32mif\u001b[0m \u001b[0mo\u001b[0m \u001b[0;32mis\u001b[0m \u001b[0;32mNone\u001b[0m\u001b[0;34m:\u001b[0m\u001b[0;34m\u001b[0m\u001b[0;34m\u001b[0m\u001b[0m\n",
            "\u001b[0;31mKeyError\u001b[0m: None",
            "\nDuring handling of the above exception, another exception occurred:\n",
            "\u001b[0;31mOSError\u001b[0m                                   Traceback (most recent call last)",
            "\u001b[0;32m<ipython-input-23-3e69bdf6754b>\u001b[0m in \u001b[0;36m<module>\u001b[0;34m()\u001b[0m\n\u001b[1;32m      7\u001b[0m     \u001b[0mengine\u001b[0m\u001b[0;34m.\u001b[0m\u001b[0mrunAndWait\u001b[0m\u001b[0;34m(\u001b[0m\u001b[0;34m)\u001b[0m\u001b[0;34m\u001b[0m\u001b[0;34m\u001b[0m\u001b[0m\n\u001b[1;32m      8\u001b[0m \u001b[0;34m\u001b[0m\u001b[0m\n\u001b[0;32m----> 9\u001b[0;31m \u001b[0mengine\u001b[0m \u001b[0;34m=\u001b[0m \u001b[0mpyttsx3\u001b[0m\u001b[0;34m.\u001b[0m\u001b[0minit\u001b[0m\u001b[0;34m(\u001b[0m\u001b[0;34m)\u001b[0m\u001b[0;34m\u001b[0m\u001b[0;34m\u001b[0m\u001b[0m\n\u001b[0m\u001b[1;32m     10\u001b[0m \u001b[0;34m\u001b[0m\u001b[0m\n\u001b[1;32m     11\u001b[0m \u001b[0moddelovac\u001b[0m \u001b[0;34m=\u001b[0m \u001b[0;36m40\u001b[0m\u001b[0;34m*\u001b[0m\u001b[0;34m\"=\"\u001b[0m\u001b[0;34m\u001b[0m\u001b[0;34m\u001b[0m\u001b[0m\n",
            "\u001b[0;32m/usr/local/lib/python3.7/dist-packages/pyttsx3/__init__.py\u001b[0m in \u001b[0;36minit\u001b[0;34m(driverName, debug)\u001b[0m\n\u001b[1;32m     20\u001b[0m         \u001b[0meng\u001b[0m \u001b[0;34m=\u001b[0m \u001b[0m_activeEngines\u001b[0m\u001b[0;34m[\u001b[0m\u001b[0mdriverName\u001b[0m\u001b[0;34m]\u001b[0m\u001b[0;34m\u001b[0m\u001b[0;34m\u001b[0m\u001b[0m\n\u001b[1;32m     21\u001b[0m     \u001b[0;32mexcept\u001b[0m \u001b[0mKeyError\u001b[0m\u001b[0;34m:\u001b[0m\u001b[0;34m\u001b[0m\u001b[0;34m\u001b[0m\u001b[0m\n\u001b[0;32m---> 22\u001b[0;31m         \u001b[0meng\u001b[0m \u001b[0;34m=\u001b[0m \u001b[0mEngine\u001b[0m\u001b[0;34m(\u001b[0m\u001b[0mdriverName\u001b[0m\u001b[0;34m,\u001b[0m \u001b[0mdebug\u001b[0m\u001b[0;34m)\u001b[0m\u001b[0;34m\u001b[0m\u001b[0;34m\u001b[0m\u001b[0m\n\u001b[0m\u001b[1;32m     23\u001b[0m         \u001b[0m_activeEngines\u001b[0m\u001b[0;34m[\u001b[0m\u001b[0mdriverName\u001b[0m\u001b[0;34m]\u001b[0m \u001b[0;34m=\u001b[0m \u001b[0meng\u001b[0m\u001b[0;34m\u001b[0m\u001b[0;34m\u001b[0m\u001b[0m\n\u001b[1;32m     24\u001b[0m     \u001b[0;32mreturn\u001b[0m \u001b[0meng\u001b[0m\u001b[0;34m\u001b[0m\u001b[0;34m\u001b[0m\u001b[0m\n",
            "\u001b[0;32m/usr/local/lib/python3.7/dist-packages/pyttsx3/engine.py\u001b[0m in \u001b[0;36m__init__\u001b[0;34m(self, driverName, debug)\u001b[0m\n\u001b[1;32m     28\u001b[0m         \u001b[0;34m@\u001b[0m\u001b[0mtype\u001b[0m \u001b[0mdebug\u001b[0m\u001b[0;34m:\u001b[0m \u001b[0mbool\u001b[0m\u001b[0;34m\u001b[0m\u001b[0;34m\u001b[0m\u001b[0m\n\u001b[1;32m     29\u001b[0m         \"\"\"\n\u001b[0;32m---> 30\u001b[0;31m         \u001b[0mself\u001b[0m\u001b[0;34m.\u001b[0m\u001b[0mproxy\u001b[0m \u001b[0;34m=\u001b[0m \u001b[0mdriver\u001b[0m\u001b[0;34m.\u001b[0m\u001b[0mDriverProxy\u001b[0m\u001b[0;34m(\u001b[0m\u001b[0mweakref\u001b[0m\u001b[0;34m.\u001b[0m\u001b[0mproxy\u001b[0m\u001b[0;34m(\u001b[0m\u001b[0mself\u001b[0m\u001b[0;34m)\u001b[0m\u001b[0;34m,\u001b[0m \u001b[0mdriverName\u001b[0m\u001b[0;34m,\u001b[0m \u001b[0mdebug\u001b[0m\u001b[0;34m)\u001b[0m\u001b[0;34m\u001b[0m\u001b[0;34m\u001b[0m\u001b[0m\n\u001b[0m\u001b[1;32m     31\u001b[0m         \u001b[0;31m# initialize other vars\u001b[0m\u001b[0;34m\u001b[0m\u001b[0;34m\u001b[0m\u001b[0;34m\u001b[0m\u001b[0m\n\u001b[1;32m     32\u001b[0m         \u001b[0mself\u001b[0m\u001b[0;34m.\u001b[0m\u001b[0m_connects\u001b[0m \u001b[0;34m=\u001b[0m \u001b[0;34m{\u001b[0m\u001b[0;34m}\u001b[0m\u001b[0;34m\u001b[0m\u001b[0;34m\u001b[0m\u001b[0m\n",
            "\u001b[0;32m/usr/local/lib/python3.7/dist-packages/pyttsx3/driver.py\u001b[0m in \u001b[0;36m__init__\u001b[0;34m(self, engine, driverName, debug)\u001b[0m\n\u001b[1;32m     48\u001b[0m         \u001b[0;31m# import driver module\u001b[0m\u001b[0;34m\u001b[0m\u001b[0;34m\u001b[0m\u001b[0;34m\u001b[0m\u001b[0m\n\u001b[1;32m     49\u001b[0m         \u001b[0mname\u001b[0m \u001b[0;34m=\u001b[0m \u001b[0;34m'pyttsx3.drivers.%s'\u001b[0m \u001b[0;34m%\u001b[0m \u001b[0mdriverName\u001b[0m\u001b[0;34m\u001b[0m\u001b[0;34m\u001b[0m\u001b[0m\n\u001b[0;32m---> 50\u001b[0;31m         \u001b[0mself\u001b[0m\u001b[0;34m.\u001b[0m\u001b[0m_module\u001b[0m \u001b[0;34m=\u001b[0m \u001b[0mimportlib\u001b[0m\u001b[0;34m.\u001b[0m\u001b[0mimport_module\u001b[0m\u001b[0;34m(\u001b[0m\u001b[0mname\u001b[0m\u001b[0;34m)\u001b[0m\u001b[0;34m\u001b[0m\u001b[0;34m\u001b[0m\u001b[0m\n\u001b[0m\u001b[1;32m     51\u001b[0m         \u001b[0;31m# build driver instance\u001b[0m\u001b[0;34m\u001b[0m\u001b[0;34m\u001b[0m\u001b[0;34m\u001b[0m\u001b[0m\n\u001b[1;32m     52\u001b[0m         \u001b[0mself\u001b[0m\u001b[0;34m.\u001b[0m\u001b[0m_driver\u001b[0m \u001b[0;34m=\u001b[0m \u001b[0mself\u001b[0m\u001b[0;34m.\u001b[0m\u001b[0m_module\u001b[0m\u001b[0;34m.\u001b[0m\u001b[0mbuildDriver\u001b[0m\u001b[0;34m(\u001b[0m\u001b[0mweakref\u001b[0m\u001b[0;34m.\u001b[0m\u001b[0mproxy\u001b[0m\u001b[0;34m(\u001b[0m\u001b[0mself\u001b[0m\u001b[0;34m)\u001b[0m\u001b[0;34m)\u001b[0m\u001b[0;34m\u001b[0m\u001b[0;34m\u001b[0m\u001b[0m\n",
            "\u001b[0;32m/usr/lib/python3.7/importlib/__init__.py\u001b[0m in \u001b[0;36mimport_module\u001b[0;34m(name, package)\u001b[0m\n\u001b[1;32m    125\u001b[0m                 \u001b[0;32mbreak\u001b[0m\u001b[0;34m\u001b[0m\u001b[0;34m\u001b[0m\u001b[0m\n\u001b[1;32m    126\u001b[0m             \u001b[0mlevel\u001b[0m \u001b[0;34m+=\u001b[0m \u001b[0;36m1\u001b[0m\u001b[0;34m\u001b[0m\u001b[0;34m\u001b[0m\u001b[0m\n\u001b[0;32m--> 127\u001b[0;31m     \u001b[0;32mreturn\u001b[0m \u001b[0m_bootstrap\u001b[0m\u001b[0;34m.\u001b[0m\u001b[0m_gcd_import\u001b[0m\u001b[0;34m(\u001b[0m\u001b[0mname\u001b[0m\u001b[0;34m[\u001b[0m\u001b[0mlevel\u001b[0m\u001b[0;34m:\u001b[0m\u001b[0;34m]\u001b[0m\u001b[0;34m,\u001b[0m \u001b[0mpackage\u001b[0m\u001b[0;34m,\u001b[0m \u001b[0mlevel\u001b[0m\u001b[0;34m)\u001b[0m\u001b[0;34m\u001b[0m\u001b[0;34m\u001b[0m\u001b[0m\n\u001b[0m\u001b[1;32m    128\u001b[0m \u001b[0;34m\u001b[0m\u001b[0m\n\u001b[1;32m    129\u001b[0m \u001b[0;34m\u001b[0m\u001b[0m\n",
            "\u001b[0;32m/usr/lib/python3.7/importlib/_bootstrap.py\u001b[0m in \u001b[0;36m_gcd_import\u001b[0;34m(name, package, level)\u001b[0m\n",
            "\u001b[0;32m/usr/lib/python3.7/importlib/_bootstrap.py\u001b[0m in \u001b[0;36m_find_and_load\u001b[0;34m(name, import_)\u001b[0m\n",
            "\u001b[0;32m/usr/lib/python3.7/importlib/_bootstrap.py\u001b[0m in \u001b[0;36m_find_and_load_unlocked\u001b[0;34m(name, import_)\u001b[0m\n",
            "\u001b[0;32m/usr/lib/python3.7/importlib/_bootstrap.py\u001b[0m in \u001b[0;36m_load_unlocked\u001b[0;34m(spec)\u001b[0m\n",
            "\u001b[0;32m/usr/lib/python3.7/importlib/_bootstrap_external.py\u001b[0m in \u001b[0;36mexec_module\u001b[0;34m(self, module)\u001b[0m\n",
            "\u001b[0;32m/usr/lib/python3.7/importlib/_bootstrap.py\u001b[0m in \u001b[0;36m_call_with_frames_removed\u001b[0;34m(f, *args, **kwds)\u001b[0m\n",
            "\u001b[0;32m/usr/local/lib/python3.7/dist-packages/pyttsx3/drivers/espeak.py\u001b[0m in \u001b[0;36m<module>\u001b[0;34m()\u001b[0m\n\u001b[1;32m      7\u001b[0m \u001b[0;32mfrom\u001b[0m \u001b[0mtempfile\u001b[0m \u001b[0;32mimport\u001b[0m \u001b[0mNamedTemporaryFile\u001b[0m\u001b[0;34m\u001b[0m\u001b[0;34m\u001b[0m\u001b[0m\n\u001b[1;32m      8\u001b[0m \u001b[0;32mfrom\u001b[0m \u001b[0;34m.\u001b[0m\u001b[0;34m.\u001b[0m\u001b[0mvoice\u001b[0m \u001b[0;32mimport\u001b[0m \u001b[0mVoice\u001b[0m\u001b[0;34m\u001b[0m\u001b[0;34m\u001b[0m\u001b[0m\n\u001b[0;32m----> 9\u001b[0;31m \u001b[0;32mfrom\u001b[0m \u001b[0;34m.\u001b[0m \u001b[0;32mimport\u001b[0m \u001b[0m_espeak\u001b[0m\u001b[0;34m,\u001b[0m \u001b[0mtoUtf8\u001b[0m\u001b[0;34m,\u001b[0m \u001b[0mfromUtf8\u001b[0m\u001b[0;34m\u001b[0m\u001b[0;34m\u001b[0m\u001b[0m\n\u001b[0m\u001b[1;32m     10\u001b[0m \u001b[0;34m\u001b[0m\u001b[0m\n\u001b[1;32m     11\u001b[0m \u001b[0;34m\u001b[0m\u001b[0m\n",
            "\u001b[0;32m/usr/local/lib/python3.7/dist-packages/pyttsx3/drivers/_espeak.py\u001b[0m in \u001b[0;36m<module>\u001b[0;34m()\u001b[0m\n\u001b[1;32m     16\u001b[0m     \u001b[0;32mreturn\u001b[0m \u001b[0mCFUNCTYPE\u001b[0m\u001b[0;34m(\u001b[0m\u001b[0mresult\u001b[0m\u001b[0;34m,\u001b[0m \u001b[0;34m*\u001b[0m\u001b[0matypes\u001b[0m\u001b[0;34m)\u001b[0m\u001b[0;34m(\u001b[0m\u001b[0;34m(\u001b[0m\u001b[0mname\u001b[0m\u001b[0;34m,\u001b[0m \u001b[0mdll\u001b[0m\u001b[0;34m)\u001b[0m\u001b[0;34m,\u001b[0m \u001b[0mtuple\u001b[0m\u001b[0;34m(\u001b[0m\u001b[0maflags\u001b[0m\u001b[0;34m)\u001b[0m\u001b[0;34m)\u001b[0m\u001b[0;34m\u001b[0m\u001b[0;34m\u001b[0m\u001b[0m\n\u001b[1;32m     17\u001b[0m \u001b[0;34m\u001b[0m\u001b[0m\n\u001b[0;32m---> 18\u001b[0;31m \u001b[0mdll\u001b[0m \u001b[0;34m=\u001b[0m \u001b[0mcdll\u001b[0m\u001b[0;34m.\u001b[0m\u001b[0mLoadLibrary\u001b[0m\u001b[0;34m(\u001b[0m\u001b[0;34m'libespeak.so.1'\u001b[0m\u001b[0;34m)\u001b[0m\u001b[0;34m\u001b[0m\u001b[0;34m\u001b[0m\u001b[0m\n\u001b[0m\u001b[1;32m     19\u001b[0m \u001b[0;34m\u001b[0m\u001b[0m\n\u001b[1;32m     20\u001b[0m \u001b[0;31m# constants and such from speak_lib.h\u001b[0m\u001b[0;34m\u001b[0m\u001b[0;34m\u001b[0m\u001b[0;34m\u001b[0m\u001b[0m\n",
            "\u001b[0;32m/usr/lib/python3.7/ctypes/__init__.py\u001b[0m in \u001b[0;36mLoadLibrary\u001b[0;34m(self, name)\u001b[0m\n\u001b[1;32m    440\u001b[0m \u001b[0;34m\u001b[0m\u001b[0m\n\u001b[1;32m    441\u001b[0m     \u001b[0;32mdef\u001b[0m \u001b[0mLoadLibrary\u001b[0m\u001b[0;34m(\u001b[0m\u001b[0mself\u001b[0m\u001b[0;34m,\u001b[0m \u001b[0mname\u001b[0m\u001b[0;34m)\u001b[0m\u001b[0;34m:\u001b[0m\u001b[0;34m\u001b[0m\u001b[0;34m\u001b[0m\u001b[0m\n\u001b[0;32m--> 442\u001b[0;31m         \u001b[0;32mreturn\u001b[0m \u001b[0mself\u001b[0m\u001b[0;34m.\u001b[0m\u001b[0m_dlltype\u001b[0m\u001b[0;34m(\u001b[0m\u001b[0mname\u001b[0m\u001b[0;34m)\u001b[0m\u001b[0;34m\u001b[0m\u001b[0;34m\u001b[0m\u001b[0m\n\u001b[0m\u001b[1;32m    443\u001b[0m \u001b[0;34m\u001b[0m\u001b[0m\n\u001b[1;32m    444\u001b[0m \u001b[0mcdll\u001b[0m \u001b[0;34m=\u001b[0m \u001b[0mLibraryLoader\u001b[0m\u001b[0;34m(\u001b[0m\u001b[0mCDLL\u001b[0m\u001b[0;34m)\u001b[0m\u001b[0;34m\u001b[0m\u001b[0;34m\u001b[0m\u001b[0m\n",
            "\u001b[0;32m/usr/lib/python3.7/ctypes/__init__.py\u001b[0m in \u001b[0;36m__init__\u001b[0;34m(self, name, mode, handle, use_errno, use_last_error)\u001b[0m\n\u001b[1;32m    362\u001b[0m \u001b[0;34m\u001b[0m\u001b[0m\n\u001b[1;32m    363\u001b[0m         \u001b[0;32mif\u001b[0m \u001b[0mhandle\u001b[0m \u001b[0;32mis\u001b[0m \u001b[0;32mNone\u001b[0m\u001b[0;34m:\u001b[0m\u001b[0;34m\u001b[0m\u001b[0;34m\u001b[0m\u001b[0m\n\u001b[0;32m--> 364\u001b[0;31m             \u001b[0mself\u001b[0m\u001b[0;34m.\u001b[0m\u001b[0m_handle\u001b[0m \u001b[0;34m=\u001b[0m \u001b[0m_dlopen\u001b[0m\u001b[0;34m(\u001b[0m\u001b[0mself\u001b[0m\u001b[0;34m.\u001b[0m\u001b[0m_name\u001b[0m\u001b[0;34m,\u001b[0m \u001b[0mmode\u001b[0m\u001b[0;34m)\u001b[0m\u001b[0;34m\u001b[0m\u001b[0;34m\u001b[0m\u001b[0m\n\u001b[0m\u001b[1;32m    365\u001b[0m         \u001b[0;32melse\u001b[0m\u001b[0;34m:\u001b[0m\u001b[0;34m\u001b[0m\u001b[0;34m\u001b[0m\u001b[0m\n\u001b[1;32m    366\u001b[0m             \u001b[0mself\u001b[0m\u001b[0;34m.\u001b[0m\u001b[0m_handle\u001b[0m \u001b[0;34m=\u001b[0m \u001b[0mhandle\u001b[0m\u001b[0;34m\u001b[0m\u001b[0;34m\u001b[0m\u001b[0m\n",
            "\u001b[0;31mOSError\u001b[0m: libespeak.so.1: cannot open shared object file: No such file or directory"
          ]
        }
      ]
    },
    {
      "cell_type": "code",
      "metadata": {
        "colab": {
          "base_uri": "https://localhost:8080/"
        },
        "id": "YIF1ZFonRQW9",
        "outputId": "2d6e38e5-0384-4a77-c65a-b117fa4d188d"
      },
      "source": [
        "slovnik"
      ],
      "execution_count": null,
      "outputs": [
        {
          "output_type": "execute_result",
          "data": {
            "text/plain": [
              "{'bad': 'spatný',\n",
              " 'beautiful': 'krásný',\n",
              " 'better': 'lepší',\n",
              " 'big': 'velký',\n",
              " 'fast': 'rychlý',\n",
              " 'nice': 'milý',\n",
              " 'slow': 'pomalý',\n",
              " 'small': 'malý',\n",
              " 'worst': 'horší'}"
            ]
          },
          "metadata": {
            "tags": []
          },
          "execution_count": 15
        }
      ]
    },
    {
      "cell_type": "code",
      "metadata": {
        "colab": {
          "base_uri": "https://localhost:8080/",
          "height": 164
        },
        "id": "xtHcpuBgRHLg",
        "outputId": "97e52eeb-4e37-4bb4-daa8-6b0b0c629063"
      },
      "source": [
        ""
      ],
      "execution_count": null,
      "outputs": [
        {
          "output_type": "error",
          "ename": "TypeError",
          "evalue": "ignored",
          "traceback": [
            "\u001b[0;31m---------------------------------------------------------------------------\u001b[0m",
            "\u001b[0;31mTypeError\u001b[0m                                 Traceback (most recent call last)",
            "\u001b[0;32m<ipython-input-18-b351157743e0>\u001b[0m in \u001b[0;36m<module>\u001b[0;34m()\u001b[0m\n\u001b[0;32m----> 1\u001b[0;31m \u001b[0mtype\u001b[0m\u001b[0;34m(\u001b[0m\u001b[0;34m**\u001b[0m\u001b[0mslovnik\u001b[0m\u001b[0;34m)\u001b[0m\u001b[0;34m\u001b[0m\u001b[0;34m\u001b[0m\u001b[0m\n\u001b[0m",
            "\u001b[0;31mTypeError\u001b[0m: type() takes 1 or 3 arguments"
          ]
        }
      ]
    },
    {
      "cell_type": "code",
      "metadata": {
        "colab": {
          "base_uri": "https://localhost:8080/"
        },
        "id": "Ml_fdTeuQ7s-",
        "outputId": "532b0802-47b9-4b11-b57c-0bb6f20af868"
      },
      "source": [
        "print(*list(slovnik.keys()))"
      ],
      "execution_count": null,
      "outputs": [
        {
          "output_type": "stream",
          "text": [
            "slow fast better worst bad nice beautiful big small\n"
          ],
          "name": "stdout"
        }
      ]
    },
    {
      "cell_type": "code",
      "metadata": {
        "colab": {
          "base_uri": "https://localhost:8080/"
        },
        "id": "_v1IhYDiMZAn",
        "outputId": "ed618ea8-f0e0-4fd0-9d4a-51381d8c2ee2"
      },
      "source": [
        "b"
      ],
      "execution_count": null,
      "outputs": [
        {
          "output_type": "execute_result",
          "data": {
            "text/plain": [
              "{'hello': 'ahoj', 'lazy': 'líný', 'tall': 'vysoký', 'world': 'svet'}"
            ]
          },
          "metadata": {
            "tags": []
          },
          "execution_count": 7
        }
      ]
    },
    {
      "cell_type": "code",
      "metadata": {
        "colab": {
          "base_uri": "https://localhost:8080/"
        },
        "id": "l4WewnXsGVjF",
        "outputId": "20a979dd-49d9-432e-f152-31e450dcd3f6"
      },
      "source": [
        "slovnik.keys()"
      ],
      "execution_count": null,
      "outputs": [
        {
          "output_type": "execute_result",
          "data": {
            "text/plain": [
              "dict_keys(['lazy', 'tall', 'fast', 'slow', 'happy'])"
            ]
          },
          "metadata": {
            "tags": []
          },
          "execution_count": 25
        }
      ]
    },
    {
      "cell_type": "code",
      "metadata": {
        "colab": {
          "base_uri": "https://localhost:8080/"
        },
        "id": "QlcAFE7hGX9j",
        "outputId": "d264e623-708a-43af-c12a-fae0dbd2bfbe"
      },
      "source": [
        "slovnik.values()"
      ],
      "execution_count": null,
      "outputs": [
        {
          "output_type": "execute_result",
          "data": {
            "text/plain": [
              "dict_values(['líný', 'vysoký', '96', 'pomalý', 'veselý'])"
            ]
          },
          "metadata": {
            "tags": []
          },
          "execution_count": 26
        }
      ]
    },
    {
      "cell_type": "code",
      "metadata": {
        "colab": {
          "base_uri": "https://localhost:8080/"
        },
        "id": "m8qcIfGjGaKd",
        "outputId": "7fd577a4-fef2-4473-884f-2e8e3f70ebeb"
      },
      "source": [
        "slovnik.items()"
      ],
      "execution_count": null,
      "outputs": [
        {
          "output_type": "execute_result",
          "data": {
            "text/plain": [
              "dict_items([('lazy', 'líný'), ('tall', 'vysoký'), ('fast', '96'), ('slow', 'pomalý'), ('happy', 'veselý')])"
            ]
          },
          "metadata": {
            "tags": []
          },
          "execution_count": 27
        }
      ]
    },
    {
      "cell_type": "code",
      "metadata": {
        "id": "ucBmdUhgFZcV"
      },
      "source": [
        "import pandas as pd\n",
        "data = pd.DataFrame(slovnik.items(), columns=[\"anglicky\", \"cesky\"])"
      ],
      "execution_count": null,
      "outputs": []
    },
    {
      "cell_type": "code",
      "metadata": {
        "colab": {
          "base_uri": "https://localhost:8080/",
          "height": 172
        },
        "id": "tclJCOFoLhiM",
        "outputId": "084bc994-69e8-480b-892b-763158de0499"
      },
      "source": [
        "data"
      ],
      "execution_count": null,
      "outputs": [
        {
          "output_type": "execute_result",
          "data": {
            "text/html": [
              "<div>\n",
              "<style scoped>\n",
              "    .dataframe tbody tr th:only-of-type {\n",
              "        vertical-align: middle;\n",
              "    }\n",
              "\n",
              "    .dataframe tbody tr th {\n",
              "        vertical-align: top;\n",
              "    }\n",
              "\n",
              "    .dataframe thead th {\n",
              "        text-align: right;\n",
              "    }\n",
              "</style>\n",
              "<table border=\"1\" class=\"dataframe\">\n",
              "  <thead>\n",
              "    <tr style=\"text-align: right;\">\n",
              "      <th></th>\n",
              "      <th>anglicky</th>\n",
              "      <th>cesky</th>\n",
              "    </tr>\n",
              "  </thead>\n",
              "  <tbody>\n",
              "    <tr>\n",
              "      <th>0</th>\n",
              "      <td>lazy</td>\n",
              "      <td>líný</td>\n",
              "    </tr>\n",
              "    <tr>\n",
              "      <th>1</th>\n",
              "      <td>tall</td>\n",
              "      <td>vysoký</td>\n",
              "    </tr>\n",
              "    <tr>\n",
              "      <th>2</th>\n",
              "      <td>hello</td>\n",
              "      <td>ahoj</td>\n",
              "    </tr>\n",
              "    <tr>\n",
              "      <th>3</th>\n",
              "      <td>world</td>\n",
              "      <td>svet</td>\n",
              "    </tr>\n",
              "  </tbody>\n",
              "</table>\n",
              "</div>"
            ],
            "text/plain": [
              "  anglicky   cesky\n",
              "0     lazy    líný\n",
              "1     tall  vysoký\n",
              "2    hello    ahoj\n",
              "3    world    svet"
            ]
          },
          "metadata": {
            "tags": []
          },
          "execution_count": 3
        }
      ]
    },
    {
      "cell_type": "code",
      "metadata": {
        "id": "RE3F4K52Gvdl"
      },
      "source": [
        "data.to_csv(\"ang_cz_slovnik.csv\", encoding=\"utf-8\")"
      ],
      "execution_count": null,
      "outputs": []
    },
    {
      "cell_type": "code",
      "metadata": {
        "id": "zetqH9DfJcuV"
      },
      "source": [
        "data.to_excel(\"Neco.xlsx\")"
      ],
      "execution_count": null,
      "outputs": []
    },
    {
      "cell_type": "code",
      "metadata": {
        "id": "aZDH9Du7IsjO"
      },
      "source": [
        "data.to_html(\"ang_cz_slovnik.html\")"
      ],
      "execution_count": null,
      "outputs": []
    },
    {
      "cell_type": "code",
      "metadata": {
        "id": "zP2rjNyDNjKM"
      },
      "source": [
        "slovnik_pro_upravu =  pd.read_csv(\"ang_cz_slovnik.csv\")[[\"anglicky\",\"cesky\"]].to_dict()"
      ],
      "execution_count": null,
      "outputs": []
    },
    {
      "cell_type": "code",
      "metadata": {
        "colab": {
          "base_uri": "https://localhost:8080/"
        },
        "id": "oq7_bb5fN5AD",
        "outputId": "0e2ce4b0-7487-44f2-ac7b-8680361c50b2"
      },
      "source": [
        "import pandas as pd\n",
        "\n",
        "jmeno_souboru = input(\"Zadej jmeno souboru: \") \n",
        "slovnik_pro_upravu =  pd.read_csv(f\"{jmeno_souboru}\")[[\"anglicky\",\"cesky\"]].to_dict()\n",
        "slovnik = {klic: hodnota for klic, hodnota in zip(list(slovnik_pro_upravu[\"anglicky\"].values()), list(slovnik_pro_upravu[\"cesky\"].values()))}\n",
        "\n",
        "while True:\n",
        "  dvojice_slov = input(\"Zadej klic a hodnotu(oddel je carkou) nebo zadej q pro exit\").lower()\n",
        "  if dvojice_slov == \"q\":\n",
        "    break\n",
        "  else:\n",
        "    klic, hodnota = dvojice_slov.split(\",\")\n",
        "    slovnik[klic] = hodnota\n",
        "slovnik"
      ],
      "execution_count": null,
      "outputs": [
        {
          "output_type": "stream",
          "text": [
            "Zadej jmeno souboru: ang_cz_slovnik.csv\n",
            "Zadej klic a hodnotu(oddel je carkou) nebo zadej q pro exitfast,rychlý\n",
            "Zadej klic a hodnotu(oddel je carkou) nebo zadej q pro exitbig,velký\n",
            "Zadej klic a hodnotu(oddel je carkou) nebo zadej q pro exitq\n"
          ],
          "name": "stdout"
        },
        {
          "output_type": "execute_result",
          "data": {
            "text/plain": [
              "{'big': 'velký',\n",
              " 'fast': 'rychlý',\n",
              " 'happy': 'veselý',\n",
              " 'lazy': 'líný',\n",
              " 'slow': 'pomalý',\n",
              " 'tall': 'vysoký'}"
            ]
          },
          "metadata": {
            "tags": []
          },
          "execution_count": 74
        }
      ]
    },
    {
      "cell_type": "code",
      "metadata": {
        "id": "aPKdEnuGMIHY"
      },
      "source": [
        "MORSE_CODE_DICT = { 'A':'.-', 'B':'-...', \n",
        "                    'C':'-.-.', 'D':'-..', 'E':'.', \n",
        "                    'F':'..-.', 'G':'--.', 'H':'....', \n",
        "                    'I':'..', 'J':'.---', 'K':'-.-', \n",
        "                    'L':'.-..', 'M':'--', 'N':'-.', \n",
        "                    'O':'---', 'P':'.--.', 'Q':'--.-', \n",
        "                    'R':'.-.', 'S':'...', 'T':'-', \n",
        "                    'U':'..-', 'V':'...-', 'W':'.--', \n",
        "                    'X':'-..-', 'Y':'-.--', 'Z':'--..', \n",
        "                    '1':'.----', '2':'..---', '3':'...--', \n",
        "                    '4':'....-', '5':'.....', '6':'-....', \n",
        "                    '7':'--...', '8':'---..', '9':'----.', \n",
        "                    '0':'-----', ', ':'--..--', '.':'.-.-.-', \n",
        "                    '?':'..--..', '/':'-..-.', '-':'-....-', \n",
        "                    '(':'-.--.', ')':'-.--.-'}\n",
        "\n",
        "                    "
      ],
      "execution_count": null,
      "outputs": []
    },
    {
      "cell_type": "code",
      "metadata": {
        "colab": {
          "base_uri": "https://localhost:8080/"
        },
        "id": "Xc_x6GYlQidp",
        "outputId": "c7f3b62d-6248-40fc-edd7-578d3858cd30"
      },
      "source": [
        "for klic in MORSE_CODE_DICT:\n",
        "  print(MORSE_CODE_DICT[klic])"
      ],
      "execution_count": null,
      "outputs": [
        {
          "output_type": "stream",
          "text": [
            ".-\n",
            "-...\n",
            "-.-.\n",
            "-..\n",
            ".\n",
            "..-.\n",
            "--.\n",
            "....\n",
            "..\n",
            ".---\n",
            "-.-\n",
            ".-..\n",
            "--\n",
            "-.\n",
            "---\n",
            ".--.\n",
            "--.-\n",
            ".-.\n",
            "...\n",
            "-\n",
            "..-\n",
            "...-\n",
            ".--\n",
            "-..-\n",
            "-.--\n",
            "--..\n",
            ".----\n",
            "..---\n",
            "...--\n",
            "....-\n",
            ".....\n",
            "-....\n",
            "--...\n",
            "---..\n",
            "----.\n",
            "-----\n",
            "--..--\n",
            ".-.-.-\n",
            "..--..\n",
            "-..-.\n",
            "-....-\n",
            "-.--.\n",
            "-.--.-\n"
          ],
          "name": "stdout"
        }
      ]
    },
    {
      "cell_type": "code",
      "metadata": {
        "colab": {
          "base_uri": "https://localhost:8080/"
        },
        "id": "R-K76adiP24S",
        "outputId": "3cb7c562-02b2-479f-a1c7-8c4891343c74"
      },
      "source": [
        "redict = {}\n",
        "for klic in MORSE_CODE_DICT:\n",
        "  redict[MORSE_CODE_DICT[klic]] = klic\n",
        "redict"
      ],
      "execution_count": null,
      "outputs": [
        {
          "output_type": "execute_result",
          "data": {
            "text/plain": [
              "{'-': 'T',\n",
              " '--': 'M',\n",
              " '---': 'O',\n",
              " '-----': '0',\n",
              " '----.': '9',\n",
              " '---..': '8',\n",
              " '--.': 'G',\n",
              " '--.-': 'Q',\n",
              " '--..': 'Z',\n",
              " '--..--': ', ',\n",
              " '--...': '7',\n",
              " '-.': 'N',\n",
              " '-.-': 'K',\n",
              " '-.--': 'Y',\n",
              " '-.--.': '(',\n",
              " '-.--.-': ')',\n",
              " '-.-.': 'C',\n",
              " '-..': 'D',\n",
              " '-..-': 'X',\n",
              " '-..-.': '/',\n",
              " '-...': 'B',\n",
              " '-....': '6',\n",
              " '-....-': '-',\n",
              " '.': 'E',\n",
              " '.-': 'A',\n",
              " '.--': 'W',\n",
              " '.---': 'J',\n",
              " '.----': '1',\n",
              " '.--.': 'P',\n",
              " '.-.': 'R',\n",
              " '.-.-.-': '.',\n",
              " '.-..': 'L',\n",
              " '..': 'I',\n",
              " '..-': 'U',\n",
              " '..---': '2',\n",
              " '..--..': '?',\n",
              " '..-.': 'F',\n",
              " '...': 'S',\n",
              " '...-': 'V',\n",
              " '...--': '3',\n",
              " '....': 'H',\n",
              " '....-': '4',\n",
              " '.....': '5'}"
            ]
          },
          "metadata": {
            "tags": []
          },
          "execution_count": 79
        }
      ]
    },
    {
      "cell_type": "code",
      "metadata": {
        "colab": {
          "base_uri": "https://localhost:8080/"
        },
        "id": "ODCOYPCRPbZd",
        "outputId": "7a4806a4-737d-42ce-ec93-ef0e5d10d938"
      },
      "source": [
        "redict = {}\n",
        "for klic, hodnota in MORSE_CODE_DICT.items():\n",
        "  redict[hodnota] = klic\n",
        "redict"
      ],
      "execution_count": null,
      "outputs": [
        {
          "output_type": "execute_result",
          "data": {
            "text/plain": [
              "{'-': 'T',\n",
              " '--': 'M',\n",
              " '---': 'O',\n",
              " '-----': '0',\n",
              " '----.': '9',\n",
              " '---..': '8',\n",
              " '--.': 'G',\n",
              " '--.-': 'Q',\n",
              " '--..': 'Z',\n",
              " '--..--': ', ',\n",
              " '--...': '7',\n",
              " '-.': 'N',\n",
              " '-.-': 'K',\n",
              " '-.--': 'Y',\n",
              " '-.--.': '(',\n",
              " '-.--.-': ')',\n",
              " '-.-.': 'C',\n",
              " '-..': 'D',\n",
              " '-..-': 'X',\n",
              " '-..-.': '/',\n",
              " '-...': 'B',\n",
              " '-....': '6',\n",
              " '-....-': '-',\n",
              " '.': 'E',\n",
              " '.-': 'A',\n",
              " '.--': 'W',\n",
              " '.---': 'J',\n",
              " '.----': '1',\n",
              " '.--.': 'P',\n",
              " '.-.': 'R',\n",
              " '.-.-.-': '.',\n",
              " '.-..': 'L',\n",
              " '..': 'I',\n",
              " '..-': 'U',\n",
              " '..---': '2',\n",
              " '..--..': '?',\n",
              " '..-.': 'F',\n",
              " '...': 'S',\n",
              " '...-': 'V',\n",
              " '...--': '3',\n",
              " '....': 'H',\n",
              " '....-': '4',\n",
              " '.....': '5'}"
            ]
          },
          "metadata": {
            "tags": []
          },
          "execution_count": 78
        }
      ]
    }
  ]
}