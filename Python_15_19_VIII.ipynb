{
  "nbformat": 4,
  "nbformat_minor": 0,
  "metadata": {
    "colab": {
      "name": "Python_15-19_VIII.ipynb",
      "provenance": [],
      "authorship_tag": "ABX9TyPp4BKKG6qo4Fu1Olk8U6gE",
      "include_colab_link": true
    },
    "kernelspec": {
      "name": "python3",
      "display_name": "Python 3"
    },
    "language_info": {
      "name": "python"
    }
  },
  "cells": [
    {
      "cell_type": "markdown",
      "metadata": {
        "id": "view-in-github",
        "colab_type": "text"
      },
      "source": [
        "<a href=\"https://colab.research.google.com/github/valenja9/Python_15_19/blob/main/Python_15_19_VIII.ipynb\" target=\"_parent\"><img src=\"https://colab.research.google.com/assets/colab-badge.svg\" alt=\"Open In Colab\"/></a>"
      ]
    },
    {
      "cell_type": "code",
      "metadata": {
        "id": "0Ww-iFu7AwFU"
      },
      "source": [
        "import pandas as pd\n",
        "data = pd.read_excel(\"/content/skola.xlsx\")"
      ],
      "execution_count": null,
      "outputs": []
    },
    {
      "cell_type": "code",
      "metadata": {
        "colab": {
          "base_uri": "https://localhost:8080/"
        },
        "id": "_Ayzwpe2C7v3",
        "outputId": "35f3212d-b3c5-4bea-bc8f-29176367cf6b"
      },
      "source": [
        "data.info()"
      ],
      "execution_count": null,
      "outputs": [
        {
          "output_type": "stream",
          "text": [
            "<class 'pandas.core.frame.DataFrame'>\n",
            "RangeIndex: 24 entries, 0 to 23\n",
            "Data columns (total 25 columns):\n",
            " #   Column                         Non-Null Count  Dtype \n",
            "---  ------                         --------------  ----- \n",
            " 0   JMÉNO                          24 non-null     object\n",
            " 1   KLUCI/HOLKY                    24 non-null     object\n",
            " 2   OBEC                           24 non-null     object\n",
            " 3   VLASTNÍ ZVÍŘE                  23 non-null     object\n",
            " 4   RÁD/A ČTE                      23 non-null     object\n",
            " 5   NĚCO SBÍRÁ                     22 non-null     object\n",
            " 6   SPORT                          23 non-null     object\n",
            " 7   MASO (ČASTO, MÁLOKDY, NE)      23 non-null     object\n",
            " 8   BARVA                          23 non-null     object\n",
            " 9   VÝZVY - POČET DOSUD VYUŽITÝCH  23 non-null     object\n",
            " 10  NÁVRAT DO ŠKOLY                23 non-null     object\n",
            " 11  BYT/DŮM                        23 non-null     object\n",
            " 12  HUDEBNÍ NÁSTROJ                23 non-null     object\n",
            " 13  KONÍČKY                        23 non-null     object\n",
            " 14  VÝŠKA                          23 non-null     object\n",
            " 15  NERAD VSTÁVÁM                  22 non-null     object\n",
            " 16  COVID                          23 non-null     object\n",
            " 17  ŠKOLA BAVÍ/NEBAVÍ              23 non-null     object\n",
            " 18  ALERGIE                        23 non-null     object\n",
            " 19  SOUROZENCI                     23 non-null     object\n",
            " 20  NAVŠTÍVENÉ STÁTY               23 non-null     object\n",
            " 21  ŘEKY NA LODI                   23 non-null     object\n",
            " 22  SNĚŽKA                         23 non-null     object\n",
            " 23  HMOTNOST                       23 non-null     object\n",
            " 24  BARVA VLASŮ                    23 non-null     object\n",
            "dtypes: object(25)\n",
            "memory usage: 4.8+ KB\n"
          ],
          "name": "stdout"
        }
      ]
    },
    {
      "cell_type": "code",
      "metadata": {
        "colab": {
          "base_uri": "https://localhost:8080/",
          "height": 332
        },
        "id": "BFSaSN6TDBYe",
        "outputId": "c9eacefc-0499-4544-b3af-0ce22f887da2"
      },
      "source": [
        "data.head(3)"
      ],
      "execution_count": null,
      "outputs": [
        {
          "output_type": "execute_result",
          "data": {
            "text/html": [
              "<div>\n",
              "<style scoped>\n",
              "    .dataframe tbody tr th:only-of-type {\n",
              "        vertical-align: middle;\n",
              "    }\n",
              "\n",
              "    .dataframe tbody tr th {\n",
              "        vertical-align: top;\n",
              "    }\n",
              "\n",
              "    .dataframe thead th {\n",
              "        text-align: right;\n",
              "    }\n",
              "</style>\n",
              "<table border=\"1\" class=\"dataframe\">\n",
              "  <thead>\n",
              "    <tr style=\"text-align: right;\">\n",
              "      <th></th>\n",
              "      <th>JMÉNO</th>\n",
              "      <th>KLUCI/HOLKY</th>\n",
              "      <th>OBEC</th>\n",
              "      <th>VLASTNÍ ZVÍŘE</th>\n",
              "      <th>RÁD/A ČTE</th>\n",
              "      <th>NĚCO SBÍRÁ</th>\n",
              "      <th>SPORT</th>\n",
              "      <th>MASO (ČASTO, MÁLOKDY, NE)</th>\n",
              "      <th>BARVA</th>\n",
              "      <th>VÝZVY - POČET DOSUD VYUŽITÝCH</th>\n",
              "      <th>NÁVRAT DO ŠKOLY</th>\n",
              "      <th>BYT/DŮM</th>\n",
              "      <th>HUDEBNÍ NÁSTROJ</th>\n",
              "      <th>KONÍČKY</th>\n",
              "      <th>VÝŠKA</th>\n",
              "      <th>NERAD VSTÁVÁM</th>\n",
              "      <th>COVID</th>\n",
              "      <th>ŠKOLA BAVÍ/NEBAVÍ</th>\n",
              "      <th>ALERGIE</th>\n",
              "      <th>SOUROZENCI</th>\n",
              "      <th>NAVŠTÍVENÉ STÁTY</th>\n",
              "      <th>ŘEKY NA LODI</th>\n",
              "      <th>SNĚŽKA</th>\n",
              "      <th>HMOTNOST</th>\n",
              "      <th>BARVA VLASŮ</th>\n",
              "    </tr>\n",
              "  </thead>\n",
              "  <tbody>\n",
              "    <tr>\n",
              "      <th>0</th>\n",
              "      <td>Bittnerová Tereza</td>\n",
              "      <td>H</td>\n",
              "      <td>Jílové u Prahy</td>\n",
              "      <td>pes</td>\n",
              "      <td>ne</td>\n",
              "      <td>ne</td>\n",
              "      <td>plávánní</td>\n",
              "      <td>často</td>\n",
              "      <td>červená</td>\n",
              "      <td>nedělám</td>\n",
              "      <td>ano</td>\n",
              "      <td>D</td>\n",
              "      <td>ne</td>\n",
              "      <td>hraní videoher</td>\n",
              "      <td>164</td>\n",
              "      <td>Ano</td>\n",
              "      <td>Ano</td>\n",
              "      <td>ne</td>\n",
              "      <td>ne</td>\n",
              "      <td>1bratr</td>\n",
              "      <td>itálie, němcko a dál nepamatuji</td>\n",
              "      <td>vltava</td>\n",
              "      <td>ano</td>\n",
              "      <td>nefunguje mi váha</td>\n",
              "      <td>hnědá</td>\n",
              "    </tr>\n",
              "    <tr>\n",
              "      <th>1</th>\n",
              "      <td>Dvořák Jakub</td>\n",
              "      <td>K</td>\n",
              "      <td>Libeř</td>\n",
              "      <td>pes</td>\n",
              "      <td>ne</td>\n",
              "      <td>ne</td>\n",
              "      <td>Fotbal</td>\n",
              "      <td>často</td>\n",
              "      <td>vínová</td>\n",
              "      <td>Dělam</td>\n",
              "      <td>ne</td>\n",
              "      <td>D</td>\n",
              "      <td>ne</td>\n",
              "      <td>hraní videoher</td>\n",
              "      <td>177</td>\n",
              "      <td>Ano</td>\n",
              "      <td>ne</td>\n",
              "      <td>ne</td>\n",
              "      <td>ne</td>\n",
              "      <td>1 sestra a 1 bratr</td>\n",
              "      <td>německo</td>\n",
              "      <td>Sázava</td>\n",
              "      <td>ne</td>\n",
              "      <td>67</td>\n",
              "      <td>Zrzavá</td>\n",
              "    </tr>\n",
              "    <tr>\n",
              "      <th>2</th>\n",
              "      <td>Fišer Vojtěch</td>\n",
              "      <td>K</td>\n",
              "      <td>Kamenný Újezdec</td>\n",
              "      <td>morče</td>\n",
              "      <td>ano</td>\n",
              "      <td>ne</td>\n",
              "      <td>rock and roll</td>\n",
              "      <td>často</td>\n",
              "      <td>zelená</td>\n",
              "      <td>ne</td>\n",
              "      <td>ne</td>\n",
              "      <td>D</td>\n",
              "      <td>housle</td>\n",
              "      <td>čtení, programování</td>\n",
              "      <td>167</td>\n",
              "      <td>ANO</td>\n",
              "      <td>ne</td>\n",
              "      <td>ne</td>\n",
              "      <td>ne</td>\n",
              "      <td>2 bratři</td>\n",
              "      <td>chovatsko, rakousko, slovesko, slovinsko</td>\n",
              "      <td>sázava</td>\n",
              "      <td>ano</td>\n",
              "      <td>56 kg</td>\n",
              "      <td>hnědá</td>\n",
              "    </tr>\n",
              "  </tbody>\n",
              "</table>\n",
              "</div>"
            ],
            "text/plain": [
              "               JMÉNO KLUCI/HOLKY  ...           HMOTNOST BARVA VLASŮ\n",
              "0  Bittnerová Tereza           H  ...  nefunguje mi váha       hnědá\n",
              "1       Dvořák Jakub           K  ...                 67      Zrzavá\n",
              "2      Fišer Vojtěch           K  ...              56 kg       hnědá\n",
              "\n",
              "[3 rows x 25 columns]"
            ]
          },
          "metadata": {
            "tags": []
          },
          "execution_count": 7
        }
      ]
    },
    {
      "cell_type": "code",
      "metadata": {
        "id": "EInwPBIFD3qj"
      },
      "source": [
        ""
      ],
      "execution_count": null,
      "outputs": []
    },
    {
      "cell_type": "code",
      "metadata": {
        "colab": {
          "base_uri": "https://localhost:8080/",
          "height": 312
        },
        "id": "OtgMvHluCj6x",
        "outputId": "a37915fe-a0fd-4a28-af61-8371234b61e2"
      },
      "source": [
        "data.describe()"
      ],
      "execution_count": null,
      "outputs": [
        {
          "output_type": "execute_result",
          "data": {
            "text/html": [
              "<div>\n",
              "<style scoped>\n",
              "    .dataframe tbody tr th:only-of-type {\n",
              "        vertical-align: middle;\n",
              "    }\n",
              "\n",
              "    .dataframe tbody tr th {\n",
              "        vertical-align: top;\n",
              "    }\n",
              "\n",
              "    .dataframe thead th {\n",
              "        text-align: right;\n",
              "    }\n",
              "</style>\n",
              "<table border=\"1\" class=\"dataframe\">\n",
              "  <thead>\n",
              "    <tr style=\"text-align: right;\">\n",
              "      <th></th>\n",
              "      <th>JMÉNO</th>\n",
              "      <th>KLUCI/HOLKY</th>\n",
              "      <th>OBEC</th>\n",
              "      <th>VLASTNÍ ZVÍŘE</th>\n",
              "      <th>RÁD/A ČTE</th>\n",
              "      <th>NĚCO SBÍRÁ</th>\n",
              "      <th>SPORT</th>\n",
              "      <th>MASO (ČASTO, MÁLOKDY, NE)</th>\n",
              "      <th>BARVA</th>\n",
              "      <th>VÝZVY - POČET DOSUD VYUŽITÝCH</th>\n",
              "      <th>NÁVRAT DO ŠKOLY</th>\n",
              "      <th>BYT/DŮM</th>\n",
              "      <th>HUDEBNÍ NÁSTROJ</th>\n",
              "      <th>KONÍČKY</th>\n",
              "      <th>VÝŠKA</th>\n",
              "      <th>NERAD VSTÁVÁM</th>\n",
              "      <th>COVID</th>\n",
              "      <th>ŠKOLA BAVÍ/NEBAVÍ</th>\n",
              "      <th>ALERGIE</th>\n",
              "      <th>SOUROZENCI</th>\n",
              "      <th>NAVŠTÍVENÉ STÁTY</th>\n",
              "      <th>ŘEKY NA LODI</th>\n",
              "      <th>SNĚŽKA</th>\n",
              "      <th>HMOTNOST</th>\n",
              "      <th>BARVA VLASŮ</th>\n",
              "    </tr>\n",
              "  </thead>\n",
              "  <tbody>\n",
              "    <tr>\n",
              "      <th>count</th>\n",
              "      <td>24</td>\n",
              "      <td>24</td>\n",
              "      <td>24</td>\n",
              "      <td>23</td>\n",
              "      <td>23</td>\n",
              "      <td>22</td>\n",
              "      <td>23</td>\n",
              "      <td>23</td>\n",
              "      <td>23</td>\n",
              "      <td>23</td>\n",
              "      <td>23</td>\n",
              "      <td>23</td>\n",
              "      <td>23</td>\n",
              "      <td>23</td>\n",
              "      <td>23</td>\n",
              "      <td>22</td>\n",
              "      <td>23</td>\n",
              "      <td>23</td>\n",
              "      <td>23</td>\n",
              "      <td>23</td>\n",
              "      <td>23</td>\n",
              "      <td>23</td>\n",
              "      <td>23</td>\n",
              "      <td>23</td>\n",
              "      <td>23</td>\n",
              "    </tr>\n",
              "    <tr>\n",
              "      <th>unique</th>\n",
              "      <td>24</td>\n",
              "      <td>2</td>\n",
              "      <td>12</td>\n",
              "      <td>20</td>\n",
              "      <td>5</td>\n",
              "      <td>7</td>\n",
              "      <td>19</td>\n",
              "      <td>7</td>\n",
              "      <td>9</td>\n",
              "      <td>11</td>\n",
              "      <td>4</td>\n",
              "      <td>6</td>\n",
              "      <td>9</td>\n",
              "      <td>18</td>\n",
              "      <td>16</td>\n",
              "      <td>4</td>\n",
              "      <td>4</td>\n",
              "      <td>10</td>\n",
              "      <td>7</td>\n",
              "      <td>12</td>\n",
              "      <td>23</td>\n",
              "      <td>14</td>\n",
              "      <td>4</td>\n",
              "      <td>21</td>\n",
              "      <td>10</td>\n",
              "    </tr>\n",
              "    <tr>\n",
              "      <th>top</th>\n",
              "      <td>Bittnerová Tereza</td>\n",
              "      <td>K</td>\n",
              "      <td>Jílové u Prahy</td>\n",
              "      <td>pes</td>\n",
              "      <td>ne</td>\n",
              "      <td>ne</td>\n",
              "      <td>ne</td>\n",
              "      <td>často</td>\n",
              "      <td>modrá</td>\n",
              "      <td>dělám výzvy</td>\n",
              "      <td>ano</td>\n",
              "      <td>D</td>\n",
              "      <td>ne</td>\n",
              "      <td>hraní videoher</td>\n",
              "      <td>150</td>\n",
              "      <td>ano</td>\n",
              "      <td>ne</td>\n",
              "      <td>ne</td>\n",
              "      <td>ne</td>\n",
              "      <td>1 bratr</td>\n",
              "      <td>ITALIE, CHORVATSKO, NĚMECKO, ŠPANĚLSKO, TURECK...</td>\n",
              "      <td>sázava</td>\n",
              "      <td>ne</td>\n",
              "      <td>39kg</td>\n",
              "      <td>hnědá</td>\n",
              "    </tr>\n",
              "    <tr>\n",
              "      <th>freq</th>\n",
              "      <td>1</td>\n",
              "      <td>14</td>\n",
              "      <td>11</td>\n",
              "      <td>3</td>\n",
              "      <td>17</td>\n",
              "      <td>14</td>\n",
              "      <td>4</td>\n",
              "      <td>17</td>\n",
              "      <td>8</td>\n",
              "      <td>7</td>\n",
              "      <td>12</td>\n",
              "      <td>9</td>\n",
              "      <td>13</td>\n",
              "      <td>5</td>\n",
              "      <td>3</td>\n",
              "      <td>9</td>\n",
              "      <td>18</td>\n",
              "      <td>8</td>\n",
              "      <td>15</td>\n",
              "      <td>9</td>\n",
              "      <td>1</td>\n",
              "      <td>4</td>\n",
              "      <td>11</td>\n",
              "      <td>2</td>\n",
              "      <td>11</td>\n",
              "    </tr>\n",
              "  </tbody>\n",
              "</table>\n",
              "</div>"
            ],
            "text/plain": [
              "                    JMÉNO KLUCI/HOLKY  ... HMOTNOST BARVA VLASŮ\n",
              "count                  24          24  ...       23          23\n",
              "unique                 24           2  ...       21          10\n",
              "top     Bittnerová Tereza           K  ...     39kg       hnědá\n",
              "freq                    1          14  ...        2          11\n",
              "\n",
              "[4 rows x 25 columns]"
            ]
          },
          "metadata": {
            "tags": []
          },
          "execution_count": 4
        }
      ]
    },
    {
      "cell_type": "code",
      "metadata": {
        "id": "fEECBn4OD5IS"
      },
      "source": [
        ""
      ],
      "execution_count": null,
      "outputs": []
    },
    {
      "cell_type": "code",
      "metadata": {
        "colab": {
          "base_uri": "https://localhost:8080/"
        },
        "id": "J5NzAnEDCw7h",
        "outputId": "a067d002-1259-44c1-e5ef-ec510730e15d"
      },
      "source": [
        "slovnik = {}\n",
        "for klic in data[\"RÁD/A ČTE\"].values:\n",
        "  if type(klic) == float:\n",
        "     slovnik[\"nan\"] = slovnik.get(\"nan\",0) + 1\n",
        "  else:\n",
        "    klic = klic.lower()\n",
        "    slovnik[klic] = slovnik.get(klic,0) + 1\n",
        "slovnik"
      ],
      "execution_count": null,
      "outputs": [
        {
          "output_type": "execute_result",
          "data": {
            "text/plain": [
              "{'ano': 4, 'nan': 1, 'ne': 18, 'podle nálady': 1}"
            ]
          },
          "metadata": {
            "tags": []
          },
          "execution_count": 21
        }
      ]
    },
    {
      "cell_type": "code",
      "metadata": {
        "colab": {
          "base_uri": "https://localhost:8080/"
        },
        "id": "N70iQkNcFTRx",
        "outputId": "d846659f-4d45-4759-f3c4-87a551c3ba20"
      },
      "source": [
        "for klic in slovnik:\n",
        "  print(round(slovnik[klic]/sum(slovnik.values()) * 100, 1), \"%\")"
      ],
      "execution_count": null,
      "outputs": [
        {
          "output_type": "stream",
          "text": [
            "16.7 %\n",
            "4.2 %\n",
            "75.0 %\n",
            "4.2 %\n"
          ],
          "name": "stdout"
        }
      ]
    },
    {
      "cell_type": "code",
      "metadata": {
        "colab": {
          "base_uri": "https://localhost:8080/",
          "height": 35
        },
        "id": "XQ0i-0y4EiJP",
        "outputId": "1a956ec4-edee-4bbd-cb75-1ae0ab58142d"
      },
      "source": [
        "slovnik = {'ano': 4, 'nan': 1, 'ne': 18, 'podle nálady': 1}\n",
        "slovnik.get(\"Ano\", \"Tohle tady není!\")"
      ],
      "execution_count": null,
      "outputs": [
        {
          "output_type": "execute_result",
          "data": {
            "application/vnd.google.colaboratory.intrinsic+json": {
              "type": "string"
            },
            "text/plain": [
              "'Tohle tady není!'"
            ]
          },
          "metadata": {
            "tags": []
          },
          "execution_count": 25
        }
      ]
    },
    {
      "cell_type": "code",
      "metadata": {
        "colab": {
          "base_uri": "https://localhost:8080/"
        },
        "id": "mAGdi-ImFFrt",
        "outputId": "32be8e26-7408-4c4b-c293-f7e23d122d13"
      },
      "source": [
        "#Ulož jména 6 známých do listu\n",
        "listik = [\"Tomáš\", \"Jakub\", \"Štefan\", \"Stanislav\", \"Michal\", \"Péťa\"]\n",
        "print(listik)"
      ],
      "execution_count": null,
      "outputs": [
        {
          "output_type": "stream",
          "text": [
            "['Tomáš', 'Jakub', 'Štefan', 'Stanislav', 'Michal', 'Péťa']\n"
          ],
          "name": "stdout"
        }
      ]
    },
    {
      "cell_type": "markdown",
      "metadata": {
        "id": "90c5_VffHgus"
      },
      "source": [
        "# Budme prosim  lini!!!!!!\n"
      ]
    },
    {
      "cell_type": "code",
      "metadata": {
        "id": "gv-_BwAeHZcM"
      },
      "source": [
        "jmenaZnamych = []\n",
        "jmenaZnamych.append(\"Šimon\")\n",
        "jmenaZnamych.append(\"Pepa\")\n",
        "jmenaZnamych.append(\"Ontro\")\n",
        "jmenaZnamych.append(\"Kuba\")\n",
        "jmenaZnamych.append(\"Matyáš\")\n",
        "jmenaZnamych.append(\"Lukáš\")\n",
        "print(jmenaZnamych)"
      ],
      "execution_count": null,
      "outputs": []
    },
    {
      "cell_type": "code",
      "metadata": {
        "colab": {
          "base_uri": "https://localhost:8080/"
        },
        "id": "d_v28XD6Hr0J",
        "outputId": "9cc1a14f-0ded-466d-ac9f-cff4320b0d14"
      },
      "source": [
        "len(listik)"
      ],
      "execution_count": null,
      "outputs": [
        {
          "output_type": "execute_result",
          "data": {
            "text/plain": [
              "6"
            ]
          },
          "metadata": {
            "tags": []
          },
          "execution_count": 35
        }
      ]
    },
    {
      "cell_type": "code",
      "metadata": {
        "colab": {
          "base_uri": "https://localhost:8080/"
        },
        "id": "GNjCLWOVH43b",
        "outputId": "63dce55c-959f-4ca2-e16a-1b971d01a6d1"
      },
      "source": [
        "for l in listik:\n",
        "  print(len(l))"
      ],
      "execution_count": null,
      "outputs": [
        {
          "output_type": "stream",
          "text": [
            "5\n",
            "5\n",
            "6\n",
            "9\n",
            "6\n",
            "4\n"
          ],
          "name": "stdout"
        }
      ]
    },
    {
      "cell_type": "code",
      "metadata": {
        "colab": {
          "base_uri": "https://localhost:8080/"
        },
        "id": "z6LYCraPIRdD",
        "outputId": "29bc382e-5bf4-453f-d6b9-eb270325c8a3"
      },
      "source": [
        "for l in listik:\n",
        "  print(l[::2])"
      ],
      "execution_count": null,
      "outputs": [
        {
          "output_type": "stream",
          "text": [
            "Tmš\n",
            "Jkb\n",
            "Šea\n",
            "Sailv\n",
            "Mca\n",
            "Pť\n"
          ],
          "name": "stdout"
        }
      ]
    },
    {
      "cell_type": "code",
      "metadata": {
        "id": "Pk0FkxCvI0qP"
      },
      "source": [
        "str, int, float, bool, str, tuple, list, dict"
      ],
      "execution_count": null,
      "outputs": []
    },
    {
      "cell_type": "code",
      "metadata": {
        "colab": {
          "base_uri": "https://localhost:8080/"
        },
        "id": "uBUpzHPmIoPL",
        "outputId": "47a5eb79-aa29-490f-ffb0-bd95ec5ac987"
      },
      "source": [
        "tuple(listik)"
      ],
      "execution_count": null,
      "outputs": [
        {
          "output_type": "execute_result",
          "data": {
            "text/plain": [
              "('Tomáš', 'Jakub', 'Štefan', 'Stanislav', 'Michal', 'Péťa')"
            ]
          },
          "metadata": {
            "tags": []
          },
          "execution_count": 44
        }
      ]
    },
    {
      "cell_type": "code",
      "metadata": {
        "id": "VG3cYQC4JJvr"
      },
      "source": [
        "\n",
        "if jmeno[0] == \"M\":\n",
        "  print(\"\")\n",
        "elif jmeno[0] == \"P\":\n",
        "  print(\"\")\n",
        "else:\n",
        "  print(\"Konec\")"
      ],
      "execution_count": null,
      "outputs": []
    },
    {
      "cell_type": "code",
      "metadata": {
        "id": "3YdhnCD1KVR1"
      },
      "source": [
        "klic: hodnota\n",
        "jmeno1: \"Petr\"\n",
        "jmeno2: \"Kamil\"\n",
        "jmeno3: \"Kamil\""
      ],
      "execution_count": null,
      "outputs": []
    },
    {
      "cell_type": "code",
      "metadata": {
        "colab": {
          "base_uri": "https://localhost:8080/"
        },
        "id": "2j3RwiW4KycS",
        "outputId": "10cf48bb-d7a0-4691-fc28-7a13de1c64c3"
      },
      "source": [
        "slovnik = {}\n",
        "slovnik[\"jmeno1\"] = \"Jakub\"\n",
        "slovnik"
      ],
      "execution_count": null,
      "outputs": [
        {
          "output_type": "execute_result",
          "data": {
            "text/plain": [
              "{'jmeno1': 'Jakub'}"
            ]
          },
          "metadata": {
            "tags": []
          },
          "execution_count": 45
        }
      ]
    },
    {
      "cell_type": "code",
      "metadata": {
        "id": "FguoRRSKJ--y"
      },
      "source": [
        "#vytvor slovnik do ktereho pridate celkem 10 jmen.\n",
        "#a) Předem vím, že jich bude 10.\n",
        "slovnik = {}\n",
        "for i in range(10):\n",
        "    hodnota = input(\"zadej jmeno\")\n",
        "    slovnik[\"jmeno\" + str(i)] = hodnota\n",
        "print(slovnik)\n",
        "\n",
        "#b) Nevím kolik jich bude.\n",
        "slovnik = {}\n",
        "i = 0\n",
        "while True:\n",
        "    i += 1\n",
        "    print(\"Pro ukončení napiš exit\")\n",
        "    jmeno = input(\"Zadej jméno: \")\n",
        "    if jmeno.lower() == \"exit\" or i == 10:\n",
        "        break\n",
        "    slovnik[\"jmeno\" + str(i)] = jmeno\n",
        "print(slovnik)\n"
      ],
      "execution_count": null,
      "outputs": []
    },
    {
      "cell_type": "code",
      "metadata": {
        "id": "j4FWZa6fPqWf"
      },
      "source": [
        "def pridej_urcity_pocet(pocet): #\n",
        "  slovnik = {}\n",
        "  for i in range(pocet):\n",
        "      hodnota = input(\"zadej jmeno\")\n",
        "      slovnik[\"jmeno\" + str(i)] = hodnota\n",
        "  return slovnik"
      ],
      "execution_count": null,
      "outputs": []
    },
    {
      "cell_type": "code",
      "metadata": {
        "colab": {
          "base_uri": "https://localhost:8080/"
        },
        "id": "rjrA7gISQAXo",
        "outputId": "4900959a-17f4-40e2-8d73-faac840362ff"
      },
      "source": [
        "pridej_urcity_pocet(2)"
      ],
      "execution_count": null,
      "outputs": [
        {
          "output_type": "stream",
          "text": [
            "zadej jmenojakub\n",
            "zadej jmenopetr\n",
            "{'jmeno0': 'jakub', 'jmeno1': 'petr'}\n"
          ],
          "name": "stdout"
        }
      ]
    },
    {
      "cell_type": "code",
      "metadata": {
        "colab": {
          "base_uri": "https://localhost:8080/"
        },
        "id": "2JvIghHaQIHc",
        "outputId": "0adc7ed2-c07d-4202-9f5e-44969246605b"
      },
      "source": [
        "slovnik = pridej_urcity_pocet(2)\n",
        "\n"
      ],
      "execution_count": null,
      "outputs": [
        {
          "output_type": "stream",
          "text": [
            "zadej jmenojakub\n",
            "zadej jmenopetr\n"
          ],
          "name": "stdout"
        }
      ]
    },
    {
      "cell_type": "code",
      "metadata": {
        "colab": {
          "base_uri": "https://localhost:8080/"
        },
        "id": "zBf9DUkrQOrv",
        "outputId": "db0f401a-2b6c-44d2-d9fa-9f97b01767fd"
      },
      "source": [
        "slovnik.keys()"
      ],
      "execution_count": null,
      "outputs": [
        {
          "output_type": "execute_result",
          "data": {
            "text/plain": [
              "dict_keys(['jmeno0', 'jmeno1'])"
            ]
          },
          "metadata": {
            "tags": []
          },
          "execution_count": 76
        }
      ]
    },
    {
      "cell_type": "code",
      "metadata": {
        "id": "r_vO5SeJNtPX"
      },
      "source": [
        "def secti_dve_cisla(x, y):\n",
        "  vysledek = x + y\n",
        "  # return vysledek\n",
        "\n",
        "  "
      ],
      "execution_count": null,
      "outputs": []
    },
    {
      "cell_type": "code",
      "metadata": {
        "colab": {
          "base_uri": "https://localhost:8080/"
        },
        "id": "uRFbbr1FOHL_",
        "outputId": "7aa42cd6-4793-4a37-8893-cc30d268ea08"
      },
      "source": [
        "print(secti_dve_cisla(50, 60))"
      ],
      "execution_count": null,
      "outputs": [
        {
          "output_type": "stream",
          "text": [
            "None\n"
          ],
          "name": "stdout"
        }
      ]
    },
    {
      "cell_type": "code",
      "metadata": {
        "id": "khNqk5PaO6Cn"
      },
      "source": [
        "vysledek = sum([1,2,3])"
      ],
      "execution_count": null,
      "outputs": []
    },
    {
      "cell_type": "code",
      "metadata": {
        "colab": {
          "base_uri": "https://localhost:8080/"
        },
        "id": "v1_AERY_PDxX",
        "outputId": "0ec64ba1-ab87-4b60-f9b7-268854d9fb31"
      },
      "source": [
        "vysledek"
      ],
      "execution_count": null,
      "outputs": [
        {
          "output_type": "execute_result",
          "data": {
            "text/plain": [
              "6"
            ]
          },
          "metadata": {
            "tags": []
          },
          "execution_count": 57
        }
      ]
    },
    {
      "cell_type": "code",
      "metadata": {
        "colab": {
          "base_uri": "https://localhost:8080/"
        },
        "id": "7i4FACI_RCp1",
        "outputId": "2535a557-be86-437f-e164-38ecfb867370"
      },
      "source": [
        "def vstavam(cas):\n",
        "  print(\"Dnes vstavam v: \", cas)\n",
        "\n",
        "def delam_snidani():\n",
        "  for jidlo in lednicka:\n",
        "    print(jidlo)\n",
        "\n",
        "def je_volna_koupelna(svetlo_sviti):\n",
        "  if svetlo_sviti == False:\n",
        "    return True\n",
        "  else:\n",
        "    return False\n",
        "\n",
        "lednicka = [\"banan\", \"okurek\", \"jogurt\"]\n",
        "vstavam(7)\n",
        "delam_snidani()\n",
        "\n",
        "if je_volna_koupelna(False) == True:\n",
        "  print(\"Muzes jit do sprchy!\")\n",
        "\n"
      ],
      "execution_count": null,
      "outputs": [
        {
          "output_type": "stream",
          "text": [
            "Dnes vstavam v:  7\n",
            "banan\n",
            "okurek\n",
            "jogurt\n",
            "Muzes jit do sprchy!\n"
          ],
          "name": "stdout"
        }
      ]
    },
    {
      "cell_type": "code",
      "metadata": {
        "id": "G6kclBtITaH7"
      },
      "source": [
        "#napis funkci, ktera nacte list jmen a ke každému jménu musí uživatel zadat vek. Funkce vraci slovnik\n",
        "def "
      ],
      "execution_count": null,
      "outputs": []
    }
  ]
}