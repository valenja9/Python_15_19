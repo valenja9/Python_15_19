{
  "nbformat": 4,
  "nbformat_minor": 0,
  "metadata": {
    "colab": {
      "name": "Python_14_19_IV.ipynb",
      "provenance": [],
      "authorship_tag": "ABX9TyOPlORtka1kpJbiN7fgyQ36",
      "include_colab_link": true
    },
    "kernelspec": {
      "name": "python3",
      "display_name": "Python 3"
    }
  },
  "cells": [
    {
      "cell_type": "markdown",
      "metadata": {
        "id": "view-in-github",
        "colab_type": "text"
      },
      "source": [
        "<a href=\"https://colab.research.google.com/github/valenja9/Python_15_19/blob/main/Python_14_19_IV.ipynb\" target=\"_parent\"><img src=\"https://colab.research.google.com/assets/colab-badge.svg\" alt=\"Open In Colab\"/></a>"
      ]
    },
    {
      "cell_type": "markdown",
      "metadata": {
        "id": "FGDUOuSHCcs9"
      },
      "source": [
        "# Ctvrta lekce\n",
        "- Dnes se zaměříme na Tuple a list. Jsou to nové datové typy, které mají hodně podobné vlastnosti, ale mají jeden dost podstatný rozdíl!"
      ]
    },
    {
      "cell_type": "markdown",
      "metadata": {
        "id": "wf_kLap2pXH4"
      },
      "source": [
        "# Tuple\n",
        "- Tuple je kontejnerový datový typ. Osobně bych ho nazval spíš časová kapsle s více přihrádkama.\n",
        "- Proc? Pokud si vzpomeneme na print(), tak ten má hodně podobnou možnost.\n",
        "```\n",
        "print(\"Kazde\",\"slovo\",\"mohu\",\"rozdelit\",\"carkou\")\n",
        "```\n",
        "- Do printu mohu vlozit vice informaci, takže i print může mít více přihrádek.\n",
        "- Jak se tvoří?\n",
        "- Použijeme buď ()\n",
        "```\n",
        "tohle_je_tuple = (\"Pondeli\",\"Utery\", \"Streda\")\n",
        "```\n",
        "- Nebo pomocí kontruktoru! Už známe str(),int(),bool(), float(). Přidejme sem ještě tuple().\n",
        "```\n",
        "tohle_je_tuple = tuple(\"pondeli\",\"utery\",\"streda\")\n",
        "```\n",
        "\n",
        "\n",
        "\n",
        "\n",
        "\n",
        "- Proč je to časová kapsle? To co jednou umístíme do tuplu, tak nemůžeme odstranit, nebo změnit. Můžeme jej jen celý přepsat, či vymazat.\n",
        "\n"
      ]
    },
    {
      "cell_type": "code",
      "metadata": {
        "colab": {
          "base_uri": "https://localhost:8080/"
        },
        "id": "IwzOevOmpV1t",
        "outputId": "ae7d6f2a-d0fc-4e2b-9fc0-6dd77b56e941"
      },
      "source": [
        "#vytvářím tuple\n",
        "jmena = (\"Tomas\", \"Lukas\", \"Honza\")\n",
        "#tuple je retezec, takze ma nejaky pocet prvku, ktere jsou uvnitr ulozeny... ma delku(3)\n",
        "print(len(jmena))\n",
        "#Taky se da indexovat\n",
        "print(jmena[2])\n",
        "#Da se pouzit slicing\n",
        "print(jmena[:2]) #vsimete si ze vytvorim novy, mensi tuple!"
      ],
      "execution_count": null,
      "outputs": [
        {
          "output_type": "stream",
          "text": [
            "3\n",
            "Honza\n",
            "('Tomas', 'Lukas')\n"
          ],
          "name": "stdout"
        }
      ]
    },
    {
      "cell_type": "markdown",
      "metadata": {
        "id": "flUGXCHjLRgm"
      },
      "source": [
        "# Zkusme tedy rozdelit tento tuple na jednotlive tuply jmen zacinajici na urcita pismena."
      ]
    },
    {
      "cell_type": "code",
      "metadata": {
        "colab": {
          "base_uri": "https://localhost:8080/"
        },
        "id": "vpgPVoMOLIZY",
        "outputId": "88f15573-cff1-4554-f988-d5efb257b6ed"
      },
      "source": [
        "tuple_jmen = (\"Petr\", \"Pavel\", \"Jakroslav\",\"Jakub\",\"Jirka\", \"Evzen\",\"Eva\",\"Evita\")\n",
        "tuple_jmen_na_P = tuple_jmen[:2]\n",
        "print(tuple_jmen_na_P)"
      ],
      "execution_count": null,
      "outputs": [
        {
          "output_type": "stream",
          "text": [
            "('Petr', 'Pavel')\n"
          ],
          "name": "stdout"
        }
      ]
    },
    {
      "cell_type": "markdown",
      "metadata": {
        "id": "JgYj9yc7L1SW"
      },
      "source": [
        "# Jak je to tedy s tou casovou kapsli?"
      ]
    },
    {
      "cell_type": "code",
      "metadata": {
        "colab": {
          "base_uri": "https://localhost:8080/",
          "height": 166
        },
        "id": "F3UKCZ4ML6Y4",
        "outputId": "a7654be1-c569-4226-ceef-c15163fc784e"
      },
      "source": [
        "tuple_jmen_na_P[0] = \"Prokop\" #Tohle nam hodi chybu!"
      ],
      "execution_count": null,
      "outputs": [
        {
          "output_type": "error",
          "ename": "TypeError",
          "evalue": "ignored",
          "traceback": [
            "\u001b[0;31m---------------------------------------------------------------------------\u001b[0m",
            "\u001b[0;31mTypeError\u001b[0m                                 Traceback (most recent call last)",
            "\u001b[0;32m<ipython-input-3-1435f2338e55>\u001b[0m in \u001b[0;36m<module>\u001b[0;34m()\u001b[0m\n\u001b[0;32m----> 1\u001b[0;31m \u001b[0mtuple_jmen_na_P\u001b[0m\u001b[0;34m[\u001b[0m\u001b[0;36m0\u001b[0m\u001b[0;34m]\u001b[0m \u001b[0;34m=\u001b[0m \u001b[0;34m\"Prokop\"\u001b[0m\u001b[0;34m\u001b[0m\u001b[0;34m\u001b[0m\u001b[0m\n\u001b[0m",
            "\u001b[0;31mTypeError\u001b[0m: 'tuple' object does not support item assignment"
          ]
        }
      ]
    },
    {
      "cell_type": "markdown",
      "metadata": {
        "id": "u0KZf04SMYVO"
      },
      "source": [
        "# Jak tedy zmenit, ci doplnit tuple?\n",
        "- Muzeme vyuzit vlastnost dynamiky!\n",
        "```\n",
        "tuple_jmen = (\"Pavel\", \"Prokop\")\n",
        "tuple_jmen = tuple_jmen + (\"Petr\")\n",
        "print(tuple_jmen)\n",
        "Vypis: (\"Pavel\", \"Prokop\",\"Petr\")\n",
        "```\n",
        "\n",
        "\n"
      ]
    },
    {
      "cell_type": "markdown",
      "metadata": {
        "id": "V_0YAYNYNJ8p"
      },
      "source": [
        "# Jednoduchy nakupni kosik!"
      ]
    },
    {
      "cell_type": "code",
      "metadata": {
        "colab": {
          "base_uri": "https://localhost:8080/"
        },
        "id": "xAN2j6Afn0Yp",
        "outputId": "92c7b14c-c7d9-41dd-a3e5-2bae9ba81928"
      },
      "source": [
        "#Nakupni kosik\n",
        "POLOZKY = (\"banan\",\"jablko\",\"merunka\",\"meloun\")\n",
        "CENA = (10,8,12,50)\n",
        "ODDELOVAC = 40 * \"=\"\n",
        "print(ODDELOVAC)\n",
        "print(\"\"\"Ahoj, vyber si z naseho kosiku co chces:\n",
        "1 - banan\n",
        "2 - jablko \n",
        "3 - merunka\n",
        "4 - meloun \"\"\")\n",
        "print(ODDELOVAC)\n",
        "vyber = int(input(\"Zadej cislo produktu\")) - 1 #Tady se snazim odecis jednicku abych hledal dle indexu.\n",
        "print(f\"Vybral jsi {POLOZKY[vyber]} a stalo te to {CENA[vyber]} kc\")\n",
        "\n",
        "#Vyber polozku dle indexu!"
      ],
      "execution_count": null,
      "outputs": [
        {
          "output_type": "stream",
          "text": [
            "========================================\n",
            "Ahoj, vyber si z naseho kosiku co chces:\n",
            "1 - banan\n",
            "2 - jablko \n",
            "3 - merunka\n",
            "4 - meloun \n",
            "========================================\n",
            "Zadej cislo produktu2\n",
            "Vybral jsi jablko a stalo te to 8 kc\n"
          ],
          "name": "stdout"
        }
      ]
    },
    {
      "cell_type": "markdown",
      "metadata": {
        "id": "6jxu8gd3Oc_z"
      },
      "source": [
        "# List\n",
        "- Další kontejnerový datový typ je list.\n",
        "- Tentokrá se nejedná o časovou kapsly, ale o běžnou skříňku se šuplíky, které můžeme libovolně měnit, zahazovat a přepisovat.\n",
        "- Tedy je měnitelný!\n",
        "- Jak se tvoří? \n",
        "- Existují zase dvě možnosti [] pomocí závorek, nebo pomocí list()\n",
        "```\n",
        "#tohle_je_list = [\"Petr\", \"Pavel\", \"Premek\"]\n",
        "tohle_je = list(\"Petr\", \"Pavel\", \"Premek\")\n",
        "```\n",
        "- Je hodně podobný tuplu, že? \n",
        "\n"
      ]
    },
    {
      "cell_type": "code",
      "metadata": {
        "colab": {
          "base_uri": "https://localhost:8080/"
        },
        "id": "V3o2K0t_PsFz",
        "outputId": "75e5198e-5393-41a9-e636-0408acb5f4d2"
      },
      "source": [
        "jmena = [\"Petr\", \"Pavel\", \"Premek\"]\n",
        "#tuple je retezec, takze ma nejaky pocet prvku, ktere jsou uvnitr ulozeny... ma delku(3)\n",
        "print(len(jmena))\n",
        "#Taky se da indexovat\n",
        "print(jmena[2])\n",
        "#Da se pouzit slicing\n",
        "print(jmena[:2]) #vsimete si ze vytvorim novy, mensi list!"
      ],
      "execution_count": null,
      "outputs": [
        {
          "output_type": "stream",
          "text": [
            "3\n",
            "Premek\n",
            "['Petr', 'Pavel']\n"
          ],
          "name": "stdout"
        }
      ]
    },
    {
      "cell_type": "markdown",
      "metadata": {
        "id": "BQ7Ip7qAUfcY"
      },
      "source": [
        "# A jak je to tedy s měnitelností?"
      ]
    },
    {
      "cell_type": "code",
      "metadata": {
        "colab": {
          "base_uri": "https://localhost:8080/"
        },
        "id": "PONHJwRFUkcB",
        "outputId": "eddfea6b-4db4-4488-cb6f-2f31f0bf7f3c"
      },
      "source": [
        "print(\"Puvodni: \", jmena)\n",
        "jmena[0] = \"Petr\"\n",
        "print(\"Po zmene: \", jmena) #puvodni list vypada jinak"
      ],
      "execution_count": null,
      "outputs": [
        {
          "output_type": "stream",
          "text": [
            "Puvodni:  ['karel', 'Pavel', 'Premek']\n",
            "Po zmene:  ['Petr', 'Pavel', 'Premek']\n"
          ],
          "name": "stdout"
        }
      ]
    },
    {
      "cell_type": "markdown",
      "metadata": {
        "id": "hq2dwpJcNzlV"
      },
      "source": [
        "# Datové typy a funce type\n",
        "- Už to začíná být trochu komplikované! Je třeba se naučit co, jaký datovy typ umí! \n",
        "- V první řadě musíme umět identifikovat a zeptat se na datový typ\n",
        "- To zařizuje funkce type()\n",
        "```\n",
        "type(<jmeno_promenne>)\n",
        "```\n",
        "- Pojďme to vyzkoušet!\n",
        "\n"
      ]
    },
    {
      "cell_type": "code",
      "metadata": {
        "colab": {
          "base_uri": "https://localhost:8080/"
        },
        "id": "Hlza1IbcN-Qj",
        "outputId": "94c6652f-a15e-4861-f794-243a2ee6a3be"
      },
      "source": [
        " text = \"Tohle je text\"\n",
        " print(type(text)) #Tohle je text(str)\n",
        " list_jmen = [\"Petr\", \"Pavel\"]\n",
        " print(type(list(list_jmen))) #Tohle je list\n",
        " cislo = 5\n",
        " print(type(cislo)) #tohle je int()\n",
        " cislo_float = 4.5 \n",
        " print(type(cislo_float)) #tohle je float()"
      ],
      "execution_count": null,
      "outputs": [
        {
          "output_type": "stream",
          "text": [
            "<class 'str'>\n",
            "<class 'list'>\n",
            "<class 'int'>\n",
            "<class 'float'>\n"
          ],
          "name": "stdout"
        }
      ]
    },
    {
      "cell_type": "markdown",
      "metadata": {
        "id": "zfOtBeFIYBX8"
      },
      "source": [
        "# Když vím jaký mám datový typ, tak musím zjistit co tento typ vlastně umí!\n",
        "- dir() a help()"
      ]
    },
    {
      "cell_type": "code",
      "metadata": {
        "id": "3QwWCH-8YhWC"
      },
      "source": [
        ""
      ],
      "execution_count": null,
      "outputs": []
    },
    {
      "cell_type": "markdown",
      "metadata": {
        "id": "51QPuzuqNSaT"
      },
      "source": [
        "# Slozitejsi nakupni kosik(Metody)"
      ]
    },
    {
      "cell_type": "code",
      "metadata": {
        "colab": {
          "base_uri": "https://localhost:8080/"
        },
        "id": "D77JKiqHZpdl",
        "outputId": "0162a9d8-0236-40c8-a75c-aa36ecfdb8fd"
      },
      "source": [
        "POLOZKY.index(\"jablko\")"
      ],
      "execution_count": null,
      "outputs": [
        {
          "output_type": "execute_result",
          "data": {
            "text/plain": [
              "1"
            ]
          },
          "metadata": {
            "tags": []
          },
          "execution_count": 21
        }
      ]
    },
    {
      "cell_type": "code",
      "metadata": {
        "colab": {
          "base_uri": "https://localhost:8080/"
        },
        "id": "eIMX0WEuNygS",
        "outputId": "f1bdb5df-d276-4c8e-f9d9-789385445935"
      },
      "source": [
        "#Nakupni kosik\n",
        "POLOZKY = (\"banan\",\"jablko\",\"merunka\",\"meloun\")\n",
        "CENA = (10,8,12,50)\n",
        "ODDELOVAC = 40 * \"=\"\n",
        "print(ODDELOVAC)\n",
        "print(\"\"\"Ahoj, vyber si z naseho kosiku co chces:\n",
        "1 - banan\n",
        "2 - jablko \n",
        "3 - merunka\n",
        "4 - meloun \"\"\")\n",
        "print(ODDELOVAC)\n",
        "vyber = input(\"Zadej jmeno produktu: \") \n",
        "print(vyber)\n",
        "pozice = POLOZKY.index(vyber)\n",
        "print(f\"Vybral jsi {POLOZKY[pozice]} a stalo te to {CENA[pozice]} kc\")\n",
        "\n",
        "#Vyber polozku dle indexu!"
      ],
      "execution_count": null,
      "outputs": [
        {
          "output_type": "stream",
          "text": [
            "========================================\n",
            "Ahoj, vyber si z naseho kosiku co chces:\n",
            "1 - banan\n",
            "2 - jablko \n",
            "3 - merunka\n",
            "4 - meloun \n",
            "========================================\n",
            "Zadej jmeno produktu: jablko\n",
            "jablko\n",
            "Vybral jsi jablko a stalo te to 8 kc\n"
          ],
          "name": "stdout"
        }
      ]
    },
    {
      "cell_type": "markdown",
      "metadata": {
        "id": "lttCMPqBNiyL"
      },
      "source": [
        "# Kdy se pouzije tuple a kdy list?"
      ]
    },
    {
      "cell_type": "markdown",
      "metadata": {
        "id": "TQhfBNTLNXTn"
      },
      "source": [
        "# Jak ukladat do nakupniho kosiku?"
      ]
    },
    {
      "cell_type": "code",
      "metadata": {
        "colab": {
          "base_uri": "https://localhost:8080/"
        },
        "id": "HWzRCRB_eCKw",
        "outputId": "c25f3524-bd2a-433e-9aed-a978c03ecb6a"
      },
      "source": [
        "(\"=\",) * 50"
      ],
      "execution_count": null,
      "outputs": [
        {
          "output_type": "execute_result",
          "data": {
            "text/plain": [
              "('=',\n",
              " '=',\n",
              " '=',\n",
              " '=',\n",
              " '=',\n",
              " '=',\n",
              " '=',\n",
              " '=',\n",
              " '=',\n",
              " '=',\n",
              " '=',\n",
              " '=',\n",
              " '=',\n",
              " '=',\n",
              " '=',\n",
              " '=',\n",
              " '=',\n",
              " '=',\n",
              " '=',\n",
              " '=',\n",
              " '=',\n",
              " '=',\n",
              " '=',\n",
              " '=',\n",
              " '=',\n",
              " '=',\n",
              " '=',\n",
              " '=',\n",
              " '=',\n",
              " '=',\n",
              " '=',\n",
              " '=',\n",
              " '=',\n",
              " '=',\n",
              " '=',\n",
              " '=',\n",
              " '=',\n",
              " '=',\n",
              " '=',\n",
              " '=',\n",
              " '=',\n",
              " '=',\n",
              " '=',\n",
              " '=',\n",
              " '=',\n",
              " '=',\n",
              " '=',\n",
              " '=',\n",
              " '=',\n",
              " '=')"
            ]
          },
          "metadata": {
            "tags": []
          },
          "execution_count": 26
        }
      ]
    }
  ]
}